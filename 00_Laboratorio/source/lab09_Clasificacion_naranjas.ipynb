{
 "cells": [
  {
   "cell_type": "markdown",
   "id": "d58513f8-9c02-400d-a8e2-be6ca4068a02",
   "metadata": {},
   "source": [
    "## Importamos la librerias"
   ]
  },
  {
   "cell_type": "code",
   "execution_count": 1,
   "id": "009d0c28-7b86-4f9b-baec-e595870d99c4",
   "metadata": {},
   "outputs": [],
   "source": [
    "import os\n",
    "import shutil\n",
    "import numpy as np\n",
    "import matplotlib.pyplot as plt\n",
    "import tensorflow as tf\n",
    "from tensorflow.keras.preprocessing.image import ImageDataGenerator\n",
    "from tensorflow.keras.applications import MobileNetV2\n",
    "from tensorflow.keras import layers, models\n"
   ]
  },
  {
   "cell_type": "markdown",
   "id": "05dac89c-ba13-4fb4-bacc-0d5df8bdbd19",
   "metadata": {},
   "source": [
    "## Preparamos los datos"
   ]
  },
  {
   "cell_type": "code",
   "execution_count": 3,
   "id": "db6d9c53-36ab-42ab-b4c9-3004fa81735e",
   "metadata": {},
   "outputs": [],
   "source": [
    "# Directorios originales del dataset Fruits 360\n",
    "original_train_dir = 'fruits/Training'\n",
    "original_test_dir = 'fruits/Test'\n",
    "\n",
    "# Crear nueva estructura para binario: \"Orange\" vs \"NotOrange\"\n",
    "binary_dataset_dir = 'fruits_binary'\n",
    "train_dir = os.path.join(binary_dataset_dir, 'Training')\n",
    "test_dir = os.path.join(binary_dataset_dir, 'Test')\n",
    "\n",
    "for split in ['Training', 'Test']:\n",
    "    for cls in ['Orange', 'NotOrange']:\n",
    "        os.makedirs(os.path.join(binary_dataset_dir, split, cls), exist_ok=True)\n"
   ]
  },
  {
   "cell_type": "code",
   "execution_count": 4,
   "id": "3e65ea1d-f509-4105-8a6f-724ee0595f84",
   "metadata": {},
   "outputs": [],
   "source": [
    "# Función para copiar imágenes a la estructura binaria\n",
    "def copy_images(src_dir, dest_dir, positive_class='Orange 1'):\n",
    "    for fruit in os.listdir(src_dir):\n",
    "        fruit_path = os.path.join(src_dir, fruit)\n",
    "        if not os.path.isdir(fruit_path):\n",
    "            continue\n",
    "        label = 'Orange' if fruit == positive_class else 'NotOrange'\n",
    "        dest_path = os.path.join(dest_dir, label)\n",
    "        for img in os.listdir(fruit_path):\n",
    "            src_img = os.path.join(fruit_path, img)\n",
    "            dst_img = os.path.join(dest_path, img)\n",
    "            shutil.copyfile(src_img, dst_img)\n",
    "\n",
    "# Copiar imágenes (ejecutar solo la primera vez o después de borrar fruits_binary)\n",
    "copy_images(original_train_dir, train_dir)\n",
    "copy_images(original_test_dir, test_dir)\n"
   ]
  },
  {
   "cell_type": "code",
   "execution_count": 5,
   "id": "5525a073-205d-4fa8-a8f9-7c7f31d5bbf6",
   "metadata": {},
   "outputs": [
    {
     "name": "stdout",
     "output_type": "stream",
     "text": [
      "Found 2776 images belonging to 2 classes.\n",
      "Found 1639 images belonging to 2 classes.\n"
     ]
    }
   ],
   "source": [
    "# Parámetros\n",
    "img_size = 160\n",
    "batch_size = 32\n",
    "\n",
    "# Normalización de imágenes\n",
    "datagen = ImageDataGenerator(rescale=1./255)\n",
    "\n",
    "# Cargar datos de entrenamiento y prueba\n",
    "train_data = datagen.flow_from_directory(\n",
    "    train_dir,\n",
    "    target_size=(img_size, img_size),\n",
    "    batch_size=batch_size,\n",
    "    class_mode='binary'\n",
    ")\n",
    "\n",
    "test_data = datagen.flow_from_directory(\n",
    "    test_dir,\n",
    "    target_size=(img_size, img_size),\n",
    "    batch_size=batch_size,\n",
    "    class_mode='binary'\n",
    ")\n"
   ]
  },
  {
   "cell_type": "code",
   "execution_count": 6,
   "id": "199072bd-006c-4fdc-af68-ce84fa4003a0",
   "metadata": {},
   "outputs": [],
   "source": [
    "# Modelo base preentrenado\n",
    "base_model = MobileNetV2(input_shape=(img_size, img_size, 3),\n",
    "                         include_top=False,\n",
    "                         weights='imagenet')\n",
    "base_model.trainable = False  # Congelar pesos base\n",
    "\n",
    "# Modelo final\n",
    "model = models.Sequential([\n",
    "    base_model,\n",
    "    layers.GlobalAveragePooling2D(),\n",
    "    layers.Dense(128, activation='relu'),\n",
    "    layers.Dropout(0.3),\n",
    "    layers.Dense(1, activation='sigmoid')  # Salida binaria\n",
    "])\n",
    "\n",
    "# Compilar modelo\n",
    "model.compile(optimizer='adam',\n",
    "              loss='binary_crossentropy',\n",
    "              metrics=['accuracy'])\n"
   ]
  },
  {
   "cell_type": "markdown",
   "id": "12f3f8aa-5df2-4c74-ae51-9bfbbe3727ff",
   "metadata": {},
   "source": [
    "## Entrenamos el modelo"
   ]
  },
  {
   "cell_type": "code",
   "execution_count": 8,
   "id": "63d511ce-16c8-494f-ab6e-e8721069d70c",
   "metadata": {},
   "outputs": [
    {
     "name": "stderr",
     "output_type": "stream",
     "text": [
      "C:\\Users\\rodri\\anaconda3\\Lib\\site-packages\\keras\\src\\trainers\\data_adapters\\py_dataset_adapter.py:121: UserWarning: Your `PyDataset` class should call `super().__init__(**kwargs)` in its constructor. `**kwargs` can include `workers`, `use_multiprocessing`, `max_queue_size`. Do not pass these arguments to `fit()`, as they will be ignored.\n",
      "  self._warn_if_super_not_called()\n"
     ]
    },
    {
     "name": "stdout",
     "output_type": "stream",
     "text": [
      "Epoch 1/5\n",
      "\u001b[1m87/87\u001b[0m \u001b[32m━━━━━━━━━━━━━━━━━━━━\u001b[0m\u001b[37m\u001b[0m \u001b[1m100s\u001b[0m 1s/step - accuracy: 0.9335 - loss: 0.1254 - val_accuracy: 0.9976 - val_loss: 0.0067\n",
      "Epoch 2/5\n",
      "\u001b[1m87/87\u001b[0m \u001b[32m━━━━━━━━━━━━━━━━━━━━\u001b[0m\u001b[37m\u001b[0m \u001b[1m40s\u001b[0m 458ms/step - accuracy: 1.0000 - loss: 2.6971e-04 - val_accuracy: 0.9982 - val_loss: 0.0056\n",
      "Epoch 3/5\n",
      "\u001b[1m87/87\u001b[0m \u001b[32m━━━━━━━━━━━━━━━━━━━━\u001b[0m\u001b[37m\u001b[0m \u001b[1m41s\u001b[0m 472ms/step - accuracy: 1.0000 - loss: 2.8823e-04 - val_accuracy: 0.9982 - val_loss: 0.0031\n",
      "Epoch 4/5\n",
      "\u001b[1m87/87\u001b[0m \u001b[32m━━━━━━━━━━━━━━━━━━━━\u001b[0m\u001b[37m\u001b[0m \u001b[1m43s\u001b[0m 489ms/step - accuracy: 1.0000 - loss: 1.3603e-04 - val_accuracy: 0.9982 - val_loss: 0.0038\n",
      "Epoch 5/5\n",
      "\u001b[1m87/87\u001b[0m \u001b[32m━━━━━━━━━━━━━━━━━━━━\u001b[0m\u001b[37m\u001b[0m \u001b[1m37s\u001b[0m 429ms/step - accuracy: 1.0000 - loss: 7.1118e-05 - val_accuracy: 0.9982 - val_loss: 0.0041\n"
     ]
    }
   ],
   "source": [
    "# Entrenamiento\n",
    "epochs = 5  # Puedes subir a 10 o más si deseas\n",
    "history = model.fit(\n",
    "    train_data,\n",
    "    validation_data=test_data,\n",
    "    epochs=epochs\n",
    ")\n"
   ]
  },
  {
   "cell_type": "code",
   "execution_count": 9,
   "id": "e3a3684d-bb14-4b81-8b22-70d357d787bc",
   "metadata": {},
   "outputs": [
    {
     "data": {
      "image/png": "[encoded data removed]",
      "text/plain": [
       "<Figure size 640x480 with 1 Axes>"
      ]
     },
     "metadata": {},
     "output_type": "display_data"
    }
   ],
   "source": [
    "# Gráfica de precisión\n",
    "plt.plot(history.history['accuracy'], label='Entrenamiento')\n",
    "plt.plot(history.history['val_accuracy'], label='Validación')\n",
    "plt.title(\"Precisión del modelo (Naranja vs No Naranja)\")\n",
    "plt.xlabel(\"Épocas\")\n",
    "plt.ylabel(\"Precisión\")\n",
    "plt.legend()\n",
    "plt.grid()\n",
    "plt.show()\n"
   ]
  },
  {
   "cell_type": "markdown",
   "id": "c5c258d9-b945-4f91-a25f-3610075cf333",
   "metadata": {},
   "source": [
    "## Probamos el modelo"
   ]
  },
  {
   "cell_type": "code",
   "execution_count": 17,
   "id": "56e312d2-ad40-4858-b938-df87b1911462",
   "metadata": {},
   "outputs": [
    {
     "name": "stdout",
     "output_type": "stream",
     "text": [
      "\u001b[1m1/1\u001b[0m \u001b[32m━━━━━━━━━━━━━━━━━━━━\u001b[0m\u001b[37m\u001b[0m \u001b[1m1s\u001b[0m 983ms/step\n",
      "🌞 Es una naranja (1.00)\n"
     ]
    }
   ],
   "source": [
    "from tensorflow.keras.preprocessing import image\n",
    "\n",
    "def predict_image(img_path):\n",
    "    img = image.load_img(img_path, target_size=(img_size, img_size))\n",
    "    img_array = image.img_to_array(img)\n",
    "    img_array = tf.expand_dims(img_array, 0) / 255.0  # Normalizar\n",
    "    prediction = model.predict(img_array)[0][0]\n",
    "    \n",
    "    if prediction > 0.5:\n",
    "        print(f\"🌞 Es una naranja ({prediction:.2f})\")\n",
    "    else:\n",
    "        print(f\"🍏 No es una naranja ({1 - prediction:.2f})\")\n",
    "\n",
    "# Uso de ejemplo (asegúrate de tener una imagen válida en esa ruta)\n",
    "predict_image('Prueba/prueba01.jpg')\n",
    "\n"
   ]
  },
  {
   "cell_type": "code",
   "execution_count": 19,
   "id": "10ca6b01-d965-491c-9d13-6eff50b1b17a",
   "metadata": {},
   "outputs": [
    {
     "name": "stdout",
     "output_type": "stream",
     "text": [
      "\u001b[1m1/1\u001b[0m \u001b[32m━━━━━━━━━━━━━━━━━━━━\u001b[0m\u001b[37m\u001b[0m \u001b[1m0s\u001b[0m 47ms/step\n",
      "🍏 No es una naranja (1.00)\n"
     ]
    }
   ],
   "source": [
    "from tensorflow.keras.preprocessing import image\n",
    "\n",
    "def predict_image(img_path):\n",
    "    img = image.load_img(img_path, target_size=(img_size, img_size))\n",
    "    img_array = image.img_to_array(img)\n",
    "    img_array = tf.expand_dims(img_array, 0) / 255.0  # Normalizar\n",
    "    prediction = model.predict(img_array)[0][0]\n",
    "    \n",
    "    if prediction > 0.5:\n",
    "        print(f\"🌞 Es una naranja ({prediction:.2f})\")\n",
    "    else:\n",
    "        print(f\"🍏 No es una naranja ({1 - prediction:.2f})\")\n",
    "\n",
    "# Uso de ejemplo (asegúrate de tener una imagen válida en esa ruta)\n",
    "predict_image('Prueba/prueba02.jpg')\n"
   ]
  },
  {
   "cell_type": "code",
   "execution_count": 21,
   "id": "7e8923e6-4b67-4614-9790-5f4ff312d998",
   "metadata": {},
   "outputs": [
    {
     "name": "stdout",
     "output_type": "stream",
     "text": [
      "\u001b[1m1/1\u001b[0m \u001b[32m━━━━━━━━━━━━━━━━━━━━\u001b[0m\u001b[37m\u001b[0m \u001b[1m0s\u001b[0m 55ms/step\n",
      "🍏 No es una naranja (1.00)\n"
     ]
    }
   ],
   "source": [
    "from tensorflow.keras.preprocessing import image\n",
    "\n",
    "def predict_image(img_path):\n",
    "    img = image.load_img(img_path, target_size=(img_size, img_size))\n",
    "    img_array = image.img_to_array(img)\n",
    "    img_array = tf.expand_dims(img_array, 0) / 255.0  # Normalizar\n",
    "    prediction = model.predict(img_array)[0][0]\n",
    "    \n",
    "    if prediction > 0.5:\n",
    "        print(f\"🌞 Es una naranja ({prediction:.2f})\")\n",
    "    else:\n",
    "        print(f\"🍏 No es una naranja ({1 - prediction:.2f})\")\n",
    "\n",
    "# Uso de ejemplo (asegúrate de tener una imagen válida en esa ruta)\n",
    "predict_image('Prueba/prueba03.jpg')\n"
   ]
  },
  {
   "cell_type": "code",
   "execution_count": null,
   "id": "e723fb1d-f455-4b2e-8302-2fda5edb3798",
   "metadata": {},
   "outputs": [],
   "source": []
  }
 ],
 "metadata": {
  "kernelspec": {
   "display_name": "Python [conda env:base] *",
   "language": "python",
   "name": "conda-base-py"
  },
  "language_info": {
   "codemirror_mode": {
    "name": "ipython",
    "version": 3
   },
   "file_extension": ".py",
   "mimetype": "text/x-python",
   "name": "python",
   "nbconvert_exporter": "python",
   "pygments_lexer": "ipython3",
   "version": "3.12.7"
  }
 },
 "nbformat": 4,
 "nbformat_minor": 5
}
