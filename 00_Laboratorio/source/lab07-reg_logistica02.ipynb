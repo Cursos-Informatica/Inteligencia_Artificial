{
 "cells": [
  {
   "cell_type": "markdown",
   "metadata": {},
   "source": [
    "<a href=\"https://colab.research.google.com/drive/1eQOkYB4XMQdSeHV_pKvt9kSUW8vQo6LQ\">Abre este Jupyter en Google Colab</a>"
   ]
  },
  {
   "cell_type": "markdown",
   "metadata": {},
   "source": [
    "# Regresión Logística: Detección de SPAM"
   ]
  },
  {
   "cell_type": "markdown",
   "metadata": {},
   "source": [
    "En este ejercicio se muestran los fundamentos de la Regresión Logística planteando uno de los primeros problemas que fueron solucionados mediante el uso de técnicas de Machine Learning: la detección de SPAM."
   ]
  },
  {
   "cell_type": "markdown",
   "metadata": {},
   "source": [
    "## Enunciado del ejercicio"
   ]
  },
  {
   "cell_type": "markdown",
   "metadata": {},
   "source": [
    "Se propone la construcción de un sistema de aprendizaje automático capaz de predecir si un correo determinado se corresponde con un correo de SPAM o no, para ello, se utilizará el siguiente conjunto de datos:\n",
    "\n",
    "##### [2007 TREC Public Spam Corpus](https://plg.uwaterloo.ca/cgi-bin/cgiwrap/gvcormac/foo07)\n",
    "The corpus trec07p contains 75,419 messages:\n",
    "\n",
    "    25220 ham\n",
    "    50199 spam\n",
    "\n",
    "These messages constitute all the messages delivered to a particular\n",
    "server between these dates:\n",
    "\n",
    "    Sun, 8 Apr 2007 13:07:21 -0400\n",
    "    Fri, 6 Jul 2007 07:04:53 -0400"
   ]
  },
  {
   "cell_type": "markdown",
   "metadata": {},
   "source": [
    "### 0. Imports"
   ]
  },
  {
   "cell_type": "code",
   "execution_count": 1,
   "metadata": {},
   "outputs": [
    {
     "name": "stdout",
     "output_type": "stream",
     "text": [
      "Requirement already satisfied: scikit-learn in c:\\users\\rodri\\anaconda3\\lib\\site-packages (1.5.1)\n",
      "Requirement already satisfied: numpy>=1.19.5 in c:\\users\\rodri\\anaconda3\\lib\\site-packages (from scikit-learn) (1.26.4)\n",
      "Requirement already satisfied: scipy>=1.6.0 in c:\\users\\rodri\\anaconda3\\lib\\site-packages (from scikit-learn) (1.13.1)\n",
      "Requirement already satisfied: joblib>=1.2.0 in c:\\users\\rodri\\anaconda3\\lib\\site-packages (from scikit-learn) (1.4.2)\n",
      "Requirement already satisfied: threadpoolctl>=3.1.0 in c:\\users\\rodri\\anaconda3\\lib\\site-packages (from scikit-learn) (3.5.0)\n",
      "Requirement already satisfied: nltk in c:\\users\\rodri\\anaconda3\\lib\\site-packages (3.9.1)\n",
      "Requirement already satisfied: click in c:\\users\\rodri\\anaconda3\\lib\\site-packages (from nltk) (8.1.7)\n",
      "Requirement already satisfied: joblib in c:\\users\\rodri\\anaconda3\\lib\\site-packages (from nltk) (1.4.2)\n",
      "Requirement already satisfied: regex>=2021.8.3 in c:\\users\\rodri\\anaconda3\\lib\\site-packages (from nltk) (2024.9.11)\n",
      "Requirement already satisfied: tqdm in c:\\users\\rodri\\anaconda3\\lib\\site-packages (from nltk) (4.66.5)\n",
      "Requirement already satisfied: colorama in c:\\users\\rodri\\anaconda3\\lib\\site-packages (from click->nltk) (0.4.6)\n"
     ]
    }
   ],
   "source": [
    "# Instalación de librerías externas\n",
    "!pip install scikit-learn\n",
    "!pip install nltk"
   ]
  },
  {
   "cell_type": "markdown",
   "metadata": {},
   "source": [
    "### 1. Funciones complementarias"
   ]
  },
  {
   "cell_type": "markdown",
   "metadata": {},
   "source": [
    "En este caso práctico relacionado con la detección de correos electrónicos de SPAM, el conjunto de datos que disponemos esta formado por correos electrónicos, con sus correspondientes cabeceras y campos adicionales. Por lo tanto, requieren un preprocesamiento previo a que sean ingeridos por el algoritmo de Machine Learning."
   ]
  },
  {
   "cell_type": "code",
   "execution_count": 4,
   "metadata": {},
   "outputs": [],
   "source": [
    "# Esta clase facilita el preprocesamiento de correos electrónicos que poseen código HTML\n",
    "from html.parser import HTMLParser\n",
    "\n",
    "class MLStripper(HTMLParser):\n",
    "    def __init__(self):\n",
    "        self.reset()\n",
    "        self.strict = False\n",
    "        self.convert_charrefs = True\n",
    "        self.fed = []\n",
    "\n",
    "    def handle_data(self, d):\n",
    "        self.fed.append(d)\n",
    "\n",
    "    def get_data(self):\n",
    "        return ''.join(self.fed)"
   ]
  },
  {
   "cell_type": "code",
   "execution_count": 5,
   "metadata": {},
   "outputs": [],
   "source": [
    "# Esta función se encarga de elimar los tags HTML que se encuentren en el texto del correo electrónico\n",
    "def strip_tags(html):\n",
    "    s = MLStripper()\n",
    "    s.feed(html)\n",
    "    return s.get_data()"
   ]
  },
  {
   "cell_type": "code",
   "execution_count": 6,
   "metadata": {},
   "outputs": [
    {
     "data": {
      "text/plain": [
       "'Phrack World News'"
      ]
     },
     "execution_count": 6,
     "metadata": {},
     "output_type": "execute_result"
    }
   ],
   "source": [
    "# Ejemplo de eliminación de los tags HTML de un texto\n",
    "t = '<tr><td align=\"left\"><a href=\"../../issues/51/16.html#article\">Phrack World News</a></td>'\n",
    "strip_tags(t)"
   ]
  },
  {
   "cell_type": "markdown",
   "metadata": {},
   "source": [
    "Además de eliminar los posibles tags HTML que se encuentren en el correo electrónico, deben realizarse otras acciones de preprocesamiento para evitar que los mensajes contengan ruido innecesario. Entre ellas se encuentra la eliminación de los signos de puntuación, eliminación de posibles campos del correo electrónico que no son relevantes o eliminación de los afijos de una palabra manteniendo únicamente la raiz de la misma (Stemming). La clase que se muestra a continuación realiza estas transformaciones."
   ]
  },
  {
   "cell_type": "code",
   "execution_count": 8,
   "metadata": {},
   "outputs": [
    {
     "name": "stderr",
     "output_type": "stream",
     "text": [
      "[nltk_data] Downloading package stopwords to\n",
      "[nltk_data]     C:\\Users\\rodri\\AppData\\Roaming\\nltk_data...\n",
      "[nltk_data]   Package stopwords is already up-to-date!\n"
     ]
    }
   ],
   "source": [
    "import email\n",
    "import string\n",
    "import nltk\n",
    "nltk.download('stopwords')\n",
    "\n",
    "class Parser:\n",
    "\n",
    "    def __init__(self):\n",
    "        self.stemmer = nltk.PorterStemmer()\n",
    "        self.stopwords = set(nltk.corpus.stopwords.words('english'))\n",
    "        self.punctuation = list(string.punctuation)\n",
    "\n",
    "    def parse(self, email_path):\n",
    "        \"\"\"Parse an email.\"\"\"\n",
    "        with open(email_path, errors='ignore') as e:\n",
    "            msg = email.message_from_file(e)\n",
    "        return None if not msg else self.get_email_content(msg)\n",
    "\n",
    "    def get_email_content(self, msg):\n",
    "        \"\"\"Extract the email content.\"\"\"\n",
    "        subject = self.tokenize(msg['Subject']) if msg['Subject'] else []\n",
    "        body = self.get_email_body(msg.get_payload(),\n",
    "                                   msg.get_content_type())\n",
    "        content_type = msg.get_content_type()\n",
    "        # Returning the content of the email\n",
    "        return {\"subject\": subject,\n",
    "                \"body\": body,\n",
    "                \"content_type\": content_type}\n",
    "\n",
    "    def get_email_body(self, payload, content_type):\n",
    "        \"\"\"Extract the body of the email.\"\"\"\n",
    "        body = []\n",
    "        if type(payload) is str and content_type == 'text/plain':\n",
    "            return self.tokenize(payload)\n",
    "        elif type(payload) is str and content_type == 'text/html':\n",
    "            return self.tokenize(strip_tags(payload))\n",
    "        elif type(payload) is list:\n",
    "            for p in payload:\n",
    "                body += self.get_email_body(p.get_payload(),\n",
    "                                            p.get_content_type())\n",
    "        return body\n",
    "\n",
    "    def tokenize(self, text):\n",
    "        \"\"\"Transform a text string in tokens. Perform two main actions,\n",
    "        clean the punctuation symbols and do stemming of the text.\"\"\"\n",
    "        for c in self.punctuation:\n",
    "            text = text.replace(c, \"\")\n",
    "        text = text.replace(\"\\t\", \" \")\n",
    "        text = text.replace(\"\\n\", \" \")\n",
    "        tokens = list(filter(None, text.split(\" \")))\n",
    "        # Stemming of the tokens\n",
    "        return [self.stemmer.stem(w) for w in tokens if w not in self.stopwords]"
   ]
  },
  {
   "cell_type": "markdown",
   "metadata": {},
   "source": [
    "##### Lectura de un correo en formato raw"
   ]
  },
  {
   "cell_type": "code",
   "execution_count": 10,
   "metadata": {},
   "outputs": [
    {
     "name": "stdout",
     "output_type": "stream",
     "text": [
      "From RickyAmes@aol.com  Sun Apr  8 13:07:32 2007\n",
      "Return-Path: <RickyAmes@aol.com>\n",
      "Received: from 129.97.78.23 ([211.202.101.74])\n",
      "\tby speedy.uwaterloo.ca (8.12.8/8.12.5) with SMTP id l38H7G0I003017;\n",
      "\tSun, 8 Apr 2007 13:07:21 -0400\n",
      "Received: from 0.144.152.6 by 211.202.101.74; Sun, 08 Apr 2007 19:04:48 +0100\n",
      "Message-ID: <WYADCKPDFWWTWTXNFVUE@yahoo.com>\n",
      "From: \"Tomas Jacobs\" <RickyAmes@aol.com>\n",
      "Reply-To: \"Tomas Jacobs\" <RickyAmes@aol.com>\n",
      "To: the00@speedy.uwaterloo.ca\n",
      "Subject: Generic Cialis, branded quality@ \n",
      "Date: Sun, 08 Apr 2007 21:00:48 +0300\n",
      "X-Mailer: Microsoft Outlook Express 6.00.2600.0000\n",
      "MIME-Version: 1.0\n",
      "Content-Type: multipart/alternative;\n",
      "\tboundary=\"--8896484051606557286\"\n",
      "X-Priority: 3\n",
      "X-MSMail-Priority: Normal\n",
      "Status: RO\n",
      "Content-Length: 988\n",
      "Lines: 24\n",
      "\n",
      "----8896484051606557286\n",
      "Content-Type: text/html;\n",
      "Content-Transfer-Encoding: 7Bit\n",
      "\n",
      "<html>\n",
      "<body bgcolor=\"#ffffff\">\n",
      "<div style=\"border-color: #00FFFF; border-right-width: 0px; border-bottom-width: 0px; margin-bottom: 0px;\" align=\"center\">\n",
      "<table style=\"border: 1px; border-style: solid; border-color:#000000;\" cellpadding=\"5\" cellspacing=\"0\" bgcolor=\"#CCFFAA\">\n",
      "<tr>\n",
      "<td style=\"border: 0px; border-bottom: 1px; border-style: solid; border-color:#000000;\">\n",
      "<center>\n",
      "Do you feel the pressure to perform and not rising to the occasion??<br>\n",
      "</center>\n",
      "</td></tr><tr>\n",
      "<td bgcolor=#FFFF33 style=\"border: 0px; border-bottom: 1px; border-style: solid; border-color:#000000;\">\n",
      "<center>\n",
      "\n",
      "<b><a href='http://excoriationtuh.com/?lzmfnrdkleks'>Try <span>V</span><span>ia<span></span>gr<span>a</span>.....</a></b></center>\n",
      "</td></tr><td><center>your anxiety will be a thing of the past and you will<br>\n",
      "be back to your old self.\n",
      "</center></td></tr></table></div></body></html>\n",
      "\n",
      "\n",
      "----8896484051606557286--\n",
      "\n",
      "\n"
     ]
    }
   ],
   "source": [
    "inmail = open(\"datasets/trec07p/data/inmail.1\").read()\n",
    "print(inmail)"
   ]
  },
  {
   "cell_type": "markdown",
   "metadata": {},
   "source": [
    "##### Parsing del correo electrónico"
   ]
  },
  {
   "cell_type": "code",
   "execution_count": 16,
   "metadata": {},
   "outputs": [
    {
     "data": {
      "text/plain": [
       "{'subject': ['gener', 'ciali', 'brand', 'qualiti'],\n",
       " 'body': ['do',\n",
       "  'feel',\n",
       "  'pressur',\n",
       "  'perform',\n",
       "  'rise',\n",
       "  'occas',\n",
       "  'tri',\n",
       "  'viagra',\n",
       "  'anxieti',\n",
       "  'thing',\n",
       "  'past',\n",
       "  'back',\n",
       "  'old',\n",
       "  'self'],\n",
       " 'content_type': 'multipart/alternative'}"
      ]
     },
     "execution_count": 16,
     "metadata": {},
     "output_type": "execute_result"
    }
   ],
   "source": [
    "p = Parser()\n",
    "p.parse(\"datasets/trec07p/data/inmail.1\")"
   ]
  },
  {
   "cell_type": "markdown",
   "metadata": {},
   "source": [
    "##### Lectura del índice"
   ]
  },
  {
   "cell_type": "markdown",
   "metadata": {},
   "source": [
    "Estas funciones complementarias se encargan cargar en memoria la ruta de cada correo electrónico y su etiqueta correspondiente {spam, ham}"
   ]
  },
  {
   "cell_type": "code",
   "execution_count": 19,
   "metadata": {},
   "outputs": [],
   "source": [
    "index = open(\"datasets/trec07p/full/index\").readlines()\n",
    "##index"
   ]
  },
  {
   "cell_type": "code",
   "execution_count": 24,
   "metadata": {},
   "outputs": [],
   "source": [
    "import os\n",
    "\n",
    "DATASET_PATH = os.path.join(\"datasets\", \"trec07p\")\n",
    "\n",
    "def parse_index(path_to_index, n_elements):\n",
    "    ret_indexes = []\n",
    "    index = open(path_to_index).readlines()\n",
    "    for i in range(n_elements):\n",
    "        mail = index[i].split(\" ../\")\n",
    "        label = mail[0]\n",
    "        path = mail[1][:-1]\n",
    "        path_mail = path.split(\"/\")[-1]\n",
    "        ret_indexes.append({\"label\":label, \"email_path\":os.path.join(DATASET_PATH, os.path.join(\"data\", path_mail))})\n",
    "    return ret_indexes"
   ]
  },
  {
   "cell_type": "code",
   "execution_count": 26,
   "metadata": {},
   "outputs": [],
   "source": [
    "def parse_email(index):\n",
    "    p = Parser()\n",
    "    pmail = p.parse(index[\"email_path\"])\n",
    "    return pmail, index[\"label\"]"
   ]
  },
  {
   "cell_type": "code",
   "execution_count": 28,
   "metadata": {},
   "outputs": [
    {
     "data": {
      "text/plain": [
       "[{'label': 'spam', 'email_path': 'datasets\\\\trec07p\\\\data\\\\inmail.1'},\n",
       " {'label': 'ham', 'email_path': 'datasets\\\\trec07p\\\\data\\\\inmail.2'},\n",
       " {'label': 'spam', 'email_path': 'datasets\\\\trec07p\\\\data\\\\inmail.3'},\n",
       " {'label': 'spam', 'email_path': 'datasets\\\\trec07p\\\\data\\\\inmail.4'},\n",
       " {'label': 'spam', 'email_path': 'datasets\\\\trec07p\\\\data\\\\inmail.5'},\n",
       " {'label': 'spam', 'email_path': 'datasets\\\\trec07p\\\\data\\\\inmail.6'},\n",
       " {'label': 'spam', 'email_path': 'datasets\\\\trec07p\\\\data\\\\inmail.7'},\n",
       " {'label': 'spam', 'email_path': 'datasets\\\\trec07p\\\\data\\\\inmail.8'},\n",
       " {'label': 'spam', 'email_path': 'datasets\\\\trec07p\\\\data\\\\inmail.9'},\n",
       " {'label': 'ham', 'email_path': 'datasets\\\\trec07p\\\\data\\\\inmail.10'}]"
      ]
     },
     "execution_count": 28,
     "metadata": {},
     "output_type": "execute_result"
    }
   ],
   "source": [
    "indexes = parse_index(\"datasets/trec07p/full/index\", 10)\n",
    "indexes"
   ]
  },
  {
   "cell_type": "markdown",
   "metadata": {},
   "source": [
    "### 2. Preprocesamiento de los datos del conjunto de datos"
   ]
  },
  {
   "cell_type": "markdown",
   "metadata": {},
   "source": [
    "Con las funciones presentadas anteriormente se permite la lectura de los correos electrónicos de manera programática y el procesamiento de los mismos para eliminar aquellos componentes que no resultan de utilidad para la detección de correos de SPAM. Sin embargo, cada uno de los correos sigue estando representado por un diccionario de Python con una serie de palabras."
   ]
  },
  {
   "cell_type": "code",
   "execution_count": 32,
   "metadata": {},
   "outputs": [],
   "source": [
    "# Cargamos el índice y las etiquetas en memoria\n",
    "index = parse_index(\"datasets/trec07p/full/index\", 1)"
   ]
  },
  {
   "cell_type": "code",
   "execution_count": 34,
   "metadata": {},
   "outputs": [
    {
     "data": {
      "text/plain": [
       "'From RickyAmes@aol.com  Sun Apr  8 13:07:32 2007\\nReturn-Path: <RickyAmes@aol.com>\\nReceived: from 129.97.78.23 ([211.202.101.74])\\n\\tby speedy.uwaterloo.ca (8.12.8/8.12.5) with SMTP id l38H7G0I003017;\\n\\tSun, 8 Apr 2007 13:07:21 -0400\\nReceived: from 0.144.152.6 by 211.202.101.74; Sun, 08 Apr 2007 19:04:48 +0100\\nMessage-ID: <WYADCKPDFWWTWTXNFVUE@yahoo.com>\\nFrom: \"Tomas Jacobs\" <RickyAmes@aol.com>\\nReply-To: \"Tomas Jacobs\" <RickyAmes@aol.com>\\nTo: the00@speedy.uwaterloo.ca\\nSubject: Generic Cialis, branded quality@ \\nDate: Sun, 08 Apr 2007 21:00:48 +0300\\nX-Mailer: Microsoft Outlook Express 6.00.2600.0000\\nMIME-Version: 1.0\\nContent-Type: multipart/alternative;\\n\\tboundary=\"--8896484051606557286\"\\nX-Priority: 3\\nX-MSMail-Priority: Normal\\nStatus: RO\\nContent-Length: 988\\nLines: 24\\n\\n----8896484051606557286\\nContent-Type: text/html;\\nContent-Transfer-Encoding: 7Bit\\n\\n<html>\\n<body bgcolor=\"#ffffff\">\\n<div style=\"border-color: #00FFFF; border-right-width: 0px; border-bottom-width: 0px; margin-bottom: 0px;\" align=\"center\">\\n<table style=\"border: 1px; border-style: solid; border-color:#000000;\" cellpadding=\"5\" cellspacing=\"0\" bgcolor=\"#CCFFAA\">\\n<tr>\\n<td style=\"border: 0px; border-bottom: 1px; border-style: solid; border-color:#000000;\">\\n<center>\\nDo you feel the pressure to perform and not rising to the occasion??<br>\\n</center>\\n</td></tr><tr>\\n<td bgcolor=#FFFF33 style=\"border: 0px; border-bottom: 1px; border-style: solid; border-color:#000000;\">\\n<center>\\n\\n<b><a href=\\'http://excoriationtuh.com/?lzmfnrdkleks\\'>Try <span>V</span><span>ia<span></span>gr<span>a</span>.....</a></b></center>\\n</td></tr><td><center>your anxiety will be a thing of the past and you will<br>\\nbe back to your old self.\\n</center></td></tr></table></div></body></html>\\n\\n\\n----8896484051606557286--\\n\\n'"
      ]
     },
     "execution_count": 34,
     "metadata": {},
     "output_type": "execute_result"
    }
   ],
   "source": [
    "# Leemos el primer correo\n",
    "import os\n",
    "\n",
    "open(index[0][\"email_path\"]).read()"
   ]
  },
  {
   "cell_type": "code",
   "execution_count": 36,
   "metadata": {},
   "outputs": [
    {
     "name": "stdout",
     "output_type": "stream",
     "text": [
      "El correo es: spam\n",
      "{'subject': ['gener', 'ciali', 'brand', 'qualiti'], 'body': ['do', 'feel', 'pressur', 'perform', 'rise', 'occas', 'tri', 'viagra', 'anxieti', 'thing', 'past', 'back', 'old', 'self'], 'content_type': 'multipart/alternative'}\n"
     ]
    }
   ],
   "source": [
    "# Parseamos el primer correo\n",
    "mail, label = parse_email(index[0])\n",
    "print(\"El correo es:\", label)\n",
    "print(mail)"
   ]
  },
  {
   "cell_type": "markdown",
   "metadata": {},
   "source": [
    "El algoritmo de Regresión Logística no es capaz de ingerir texto como parte del conjunto de datos. Por lo tanto, deben aplicarse una serie de funciones adicionales que transformen el texto de los correos electrónicos parseados en una representación numérica."
   ]
  },
  {
   "cell_type": "markdown",
   "metadata": {},
   "source": [
    "##### Aplicación de CountVectorizer"
   ]
  },
  {
   "cell_type": "code",
   "execution_count": 40,
   "metadata": {},
   "outputs": [
    {
     "name": "stdout",
     "output_type": "stream",
     "text": [
      "Email: ['gener ciali brand qualitido feel pressur perform rise occas tri viagra anxieti thing past back old self'] \n",
      "\n",
      "Características de entrada: ['anxieti' 'back' 'brand' 'ciali' 'feel' 'gener' 'occas' 'old' 'past'\n",
      " 'perform' 'pressur' 'qualitido' 'rise' 'self' 'thing' 'tri' 'viagra']\n"
     ]
    }
   ],
   "source": [
    "from sklearn.feature_extraction.text import CountVectorizer\n",
    "\n",
    "# Preapración del email en una cadena de texto\n",
    "prep_email = [\" \".join(mail['subject']) + \" \".join(mail['body'])]\n",
    "\n",
    "vectorizer = CountVectorizer()\n",
    "X = vectorizer.fit(prep_email)\n",
    "\n",
    "print(\"Email:\", prep_email, \"\\n\")\n",
    "print(\"Características de entrada:\", vectorizer.get_feature_names_out())"
   ]
  },
  {
   "cell_type": "code",
   "execution_count": 42,
   "metadata": {},
   "outputs": [
    {
     "name": "stdout",
     "output_type": "stream",
     "text": [
      "\n",
      "Values:\n",
      " [[1 1 1 1 1 1 1 1 1 1 1 1 1 1 1 1 1]]\n"
     ]
    }
   ],
   "source": [
    "X = vectorizer.transform(prep_email)\n",
    "print(\"\\nValues:\\n\", X.toarray())"
   ]
  },
  {
   "cell_type": "markdown",
   "metadata": {},
   "source": [
    "##### Aplicación de OneHotEncoding"
   ]
  },
  {
   "cell_type": "code",
   "execution_count": 45,
   "metadata": {},
   "outputs": [
    {
     "name": "stdout",
     "output_type": "stream",
     "text": [
      "Features:\n",
      " ['x0_anxieti' 'x0_back' 'x0_brand' 'x0_ciali' 'x0_do' 'x0_feel' 'x0_gener'\n",
      " 'x0_occas' 'x0_old' 'x0_past' 'x0_perform' 'x0_pressur' 'x0_qualiti'\n",
      " 'x0_rise' 'x0_self' 'x0_thing' 'x0_tri' 'x0_viagra']\n",
      "\n",
      "Values:\n",
      " [[0. 0. 0. 0. 0. 0. 1. 0. 0. 0. 0. 0. 0. 0. 0. 0. 0. 0.]\n",
      " [0. 0. 0. 1. 0. 0. 0. 0. 0. 0. 0. 0. 0. 0. 0. 0. 0. 0.]\n",
      " [0. 0. 1. 0. 0. 0. 0. 0. 0. 0. 0. 0. 0. 0. 0. 0. 0. 0.]\n",
      " [0. 0. 0. 0. 0. 0. 0. 0. 0. 0. 0. 0. 1. 0. 0. 0. 0. 0.]\n",
      " [0. 0. 0. 0. 1. 0. 0. 0. 0. 0. 0. 0. 0. 0. 0. 0. 0. 0.]\n",
      " [0. 0. 0. 0. 0. 1. 0. 0. 0. 0. 0. 0. 0. 0. 0. 0. 0. 0.]\n",
      " [0. 0. 0. 0. 0. 0. 0. 0. 0. 0. 0. 1. 0. 0. 0. 0. 0. 0.]\n",
      " [0. 0. 0. 0. 0. 0. 0. 0. 0. 0. 1. 0. 0. 0. 0. 0. 0. 0.]\n",
      " [0. 0. 0. 0. 0. 0. 0. 0. 0. 0. 0. 0. 0. 1. 0. 0. 0. 0.]\n",
      " [0. 0. 0. 0. 0. 0. 0. 1. 0. 0. 0. 0. 0. 0. 0. 0. 0. 0.]\n",
      " [0. 0. 0. 0. 0. 0. 0. 0. 0. 0. 0. 0. 0. 0. 0. 0. 1. 0.]\n",
      " [0. 0. 0. 0. 0. 0. 0. 0. 0. 0. 0. 0. 0. 0. 0. 0. 0. 1.]\n",
      " [1. 0. 0. 0. 0. 0. 0. 0. 0. 0. 0. 0. 0. 0. 0. 0. 0. 0.]\n",
      " [0. 0. 0. 0. 0. 0. 0. 0. 0. 0. 0. 0. 0. 0. 0. 1. 0. 0.]\n",
      " [0. 0. 0. 0. 0. 0. 0. 0. 0. 1. 0. 0. 0. 0. 0. 0. 0. 0.]\n",
      " [0. 1. 0. 0. 0. 0. 0. 0. 0. 0. 0. 0. 0. 0. 0. 0. 0. 0.]\n",
      " [0. 0. 0. 0. 0. 0. 0. 0. 1. 0. 0. 0. 0. 0. 0. 0. 0. 0.]\n",
      " [0. 0. 0. 0. 0. 0. 0. 0. 0. 0. 0. 0. 0. 0. 1. 0. 0. 0.]]\n"
     ]
    }
   ],
   "source": [
    "from sklearn.preprocessing import OneHotEncoder\n",
    "\n",
    "prep_email = [[w] for w in mail['subject'] + mail['body']]\n",
    "\n",
    "enc = OneHotEncoder(handle_unknown='ignore')\n",
    "X = enc.fit_transform(prep_email)\n",
    "\n",
    "print(\"Features:\\n\", enc.get_feature_names_out())\n",
    "print(\"\\nValues:\\n\", X.toarray())"
   ]
  },
  {
   "cell_type": "markdown",
   "metadata": {},
   "source": [
    "##### Funciones auxiliares para preprocesamiento del conjunto de datos"
   ]
  },
  {
   "cell_type": "code",
   "execution_count": 48,
   "metadata": {},
   "outputs": [],
   "source": [
    "def create_prep_dataset(index_path, n_elements):\n",
    "    X = []\n",
    "    y = []\n",
    "    indexes = parse_index(index_path, n_elements)\n",
    "    for i in range(n_elements):\n",
    "        print(\"\\rParsing email: {0}\".format(i+1), end='')\n",
    "        try:\n",
    "            mail, label = parse_email(indexes[i])\n",
    "            X.append(\" \".join(mail['subject']) + \" \".join(mail['body']))\n",
    "            y.append(label)\n",
    "        except:\n",
    "            pass\n",
    "    print(\"X:\", X[:15])\n",
    "    print(\"y:\", y[:15])\n",
    "    return X, y"
   ]
  },
  {
   "cell_type": "markdown",
   "metadata": {},
   "source": [
    "### 3. Entrenamiento del algoritmo "
   ]
  },
  {
   "cell_type": "code",
   "execution_count": 51,
   "metadata": {},
   "outputs": [
    {
     "name": "stdout",
     "output_type": "stream",
     "text": [
      "Parsing email: 100X: ['gener ciali brand qualitido feel pressur perform rise occas tri viagra anxieti thing past back old self', 'typo debianreadmhi ive updat gulu i check mirror it seem littl typo debianreadm file exampl httpgulususherbrookecadebianreadm ftpftpfrdebianorgdebianreadm test lenni access releas diststest the current test develop snapshot name etch packag test unstabl pass autom test propog releas etch replac lenni like readmehtml yan morin consult en logiciel libr yanmorinsavoirfairelinuxcom 5149941556 to unsubscrib email debianmirrorsrequestlistsdebianorg subject unsubscrib troubl contact listmasterlistsdebianorg', 'authent viagramega authenticv i a g r a discount pricec i a l i s discount pricedo miss it click httpwwwmoujsjkhchumcom authent viagra mega authenticv i a g r a discount pricec i a l i s discount pricedo miss it click', 'nice talk yahey billi realli fun go night talk said felt insecur manhood i notic toilet quit small area worri websit i tell secret weapon extra 3 inch trust girl love bigger one ive 5 time mani chick sinc i use pill year ago the packag i use 6 month suppli one worth everi cent websit httpctmaycom ring weekend go drink let know secret later dude brad', 'trembl stomach cramp troubl sleep weak loossystem home it capabl link far i know i within part with respect affect technolog societi scienc ad agenc cashin g commerci photograph paint electron canvas still seem like silenc white black light it didnt happen although far p erfect especi preclud vast explan i understand peopl reli avantgard art world addit writer lawyer yet ach full potenti i imagin futur comput screen ho w would percept artifici imag busi apart there computer sign shop filter unnecessari labor technolog comp ani monopoli servic as servic root tre nd western cultur sinc dark age possibl unimag in human think friendli not industri isnt welcom new peopl thought c enter comput voic activ capabl mo pervas year go we email system organizatio n individu booth design architect draftspeopl condit i call hyperawar anyth everyth five i alway took prid e know reason i hire abl conduct daili work activ without leav hydro bill spend time vr potato take grant conveni technolog newer model comput i decid investig littl condit i call hyperawar ani thing everyth five sport leisur activ factor motiv king communicationinfo network just like att technolog takeov r convers new occup may result comput either im bei ng demand i dont process i with guid book chart could therefor charg much lower price thi n ever realiz virtual realiti alreadi sharp technolog pass well oh well place make yet anoth barrier peopl much like formal structur speel would make accept draw th e work comput creation system home it h ave capabl link far i know i withi n part with respect affect technolog soci ty scienc ad agenc cash commerci font photograph paint electr onic canvas still seem like silenc white black light it didnt happen although far perfect especi p reclud vast explan i cant understand peopl rel avantgard art world addit writer lawyer yet reach full potenti i imagin futur comput screen would percept artif icial imag busi apart there computer sign shop filter unnecess ari labor technolog compani monopoli servic as servic root trend western cultur sinc dark age possibl unimagin human think friendli not industr isnt welcom new peopl thought enter comput hrough voic activ capabl pervas year go we email system organ individu booth design ar chitect draftspeopl condit i call hyperawar anythi ng everyth five i alway took pride know reason i hire abl conduct daili work activ without leav hydro bill spend time vr potato take grant conveni technolog newer model comput i decid investig littl e condit i call hyperawar anyth everyth five sport leisur activ w ill factor motiv king communicationinfo network just like att technolog takeov convers new occup may result comput either im demand i dont font process i w ith guid book chart could therefor charg much lower price thi never realiz virtual reali ty alreadi sharp technolog pass well oh well place make yet anoth b arrier peopl much like formal structur speel would make accept draw work comput c reation', 'which dutiprogram creativ abil artist monitor econom structur transform social space ca n absolut space you amount inform subject i see home dimens worldli conscious quantum mechan busi vr use al ong line societi benefit fewer use econom restructur transform social i fear right first i move came elimin need paper medium commun breakthrough w ill definit impact studi time i fa miliar comput home sit couch night i say intimid get it case i opt computerizat ion integr stage system in as interior design st udent i note comput program take job mani peopl work forc of cours govern pc as well control day day concern could therefor charg much lower price thi blood allow bodi societi function smoothli idea gener purpos simul went explain point peopl never leav termin manipul digit product visual artwork provid ancient artifact comput he kept perman global villag art g roundwork cultur technolog open whole new world commun th e answer it so your aliv paint draw in fact sculptor friend mine finish i oh ever an outlin mayb simpli cutter cut letter self adhes vinyl artifici natur see stage develop choos live smooth transit posit vibe care virtual realiti treat suc h uniqu modern concept it as interior design student i note comput program amount peopl becom part new commun purchas convent ional mean receiv comput design logo layou ts sign done fashion statement advertis ploy moral issu ever rea choos keep advanc technic the age group th e advanc technolog affect th program creativ abil artist monitor econom restructur transform social space absolut space you amount inform subject i see home dimens worldli conscious qu antum mechan busi vr use along line societi benefit fewer use econom restructur transform social i fear right first i move came elimin need paper medi um commun breakthrough definit impact stu die time i familiar comput home sit couch night i say intimid get it case i opt computer integr stage system in as interior design student i note comput progr am take job mani peopl work forc of cours govern pc as well contr oll day day concern could therefor charg much lower price thi blood allow bodi societi function smoot hli idea gener purpos simul went explain point peopl never leav termin manipul digit product visual artw ork provid ancient artifact comput he kept perman global villag art groundwork cultur technolog open whole n ew world commun answer it so aliv paint draw in fact sculptor friend mine finish i oh ever an outlin mayb simpli cutter cut letter sel f adhes vinyl artifici natur see stage devel opment choos live smooth transit posit vibe cari ng virtual realiti treat uniqu modern concept it div as interior design student i n ote comput program amount peopl becom part new commun purchas convent mean receiv w comput design logo layout sign done fashion statement advertis ploy moral issu ever reason choos keep advanc ing technic the age group advanc technolog affect th', 'for theorizglad see youlook assort new onlin drug store save upto 85today special offer viagra for as low as 162 per dose ciali super viagra for as low as 438 per dose levitra for as low as 444 per dose much much surpris todayit’l take 15 minut to be readi for action most need medic avail viagra ciali levitra propecia much much free ship worlwid no doctor visit no prescript 100 custom satisfactionclick visit new pharmaci storegood day glad see look assort new onli ne drug store save upto 85 today special offer viagra for as low as 162 per dose br ciali super viagra for as low as 438 per dose levitra for as low as 444 per dose much much surpris today it92ll take 15 minut to be readi for action most need medic avail viagra ciali levitra prope cia much much free ship worlwid no doctor visit no prescript 100 custom satisfact click visit new pharmaci tore good day', 'theoriz get insid local esc0rt09090909090909090909090909090909090909 090909090909090909090909090909090909090909090909 090909090909090909090909090909090909090909090909 090909090909090909090909090909090909090909090909 090909090909090909090909090909090909090909090909 090909090909090909090909090909090909090909090909 090909090909090909090909090909090909090909090909 090909090909090909090909090909090909090909090909 090909090909090909090909090909090909090909090909 090909090909090909090909090909090909090909090909 090909090909090909090909090909090909090909090909 090909090909090909090909090909090909090909090909 090909090909090909090909090909090909090909090909 090909090909090909090909090909090909090909090909 090909090909090909090909090909090909090909090909 090909090909090909090909090909090909090909090909 090909090909090909090909090909090909090909090909 090909090909090909090909090909090909090909090909 090909090909090909090909090909090909090909090909 090909090909090909090909090909090909090909090909 090909090909090909090909090909090909090909090909 090909090909090909090909090909090909090909090909 090909090909090909090909090909090909090909090909 090909090909090909090909090909090909090909090909 090909090909090909090909090909090909090909090909 090909090909090909090909090909090909090909090909 090909090909090909090909090909090909090909090909 090909090909090909090909090909090909090909090909 090909090909090909090909090909090909090909090909 090909090909090909090909090909090909090909090909 090909090909090909090909090909090909090909090909 090909090909090909090909090909090909090909090909 090909090909090909090909090909090909090909090909 090909090909090909090909090909090909090909090909 090909090909090909090909090909090909090909090909 090909090909090909090909090909090909090909090909 090909090909090909090909090909090909090909090909 090909090909090909090909090909090909090909090909 090909090909090909090909090909090909090909090909 090909090909090909090909090909090909090909090909 090909090909090909090909090909090909090909090909 090909090909090909090909090909090909090909090909 090909090909090909090909090909090909090909090909 090909090909090909090909090909090909090909090909 090909090909090909090909090909090909090909090909 090909090909090909090909090909090909090909090909 090909090909090909090909090909090909090909090909 090909090909090909090909090909090909090909090920 2020 i hope other easy2', 'lose weight quicklihoodialif start lose weight now hoodialif natur substanc liter take appetit away learn buy hoodialif \\xa0hoodialif start lose weight now hoodialif natur substanc liter take appetit away learn more\\xa0and buy hoodialif', 'r confidenceinterv helphi i use r find 90 confidenceinterv sensit specif follow diagnost test a particular diagnost test multipl sclerosi conduct 20 ms patient 20 healthi subject 6 ms patient classifi healthi 8 healthi subject classifi suffer ms furthermor i need find number ms patient requir sensit 1 is simpl rcommand i complet new r help pleas jochen view messag context httpwwwnabblecomconfidenceintervalshelptf3544217htmla9894014 sent r help mail list archiv nabblecom rhelpstatmathethzch mail list httpsstatethzchmailmanlistinforhelp pleas read post guid httpwwwrprojectorgpostingguidehtml provid comment minim selfcontain reproduc code', 'for smilegood dayvisit new onlin drug store save upto 85today special offer viagra for as low as 162 per dose ciali super viagra for as low as 438 per dose levitra for as low as 444 per dose much much special offer todayy need 15 minut to be readi for action most need medic avail viagra ciali levitra propecia much much free ship worlwid no doctor visit no prescript full custom satisfactionclick visit new drugstorebest regard good day visit new onlin drug store save upto 85 today special offer viagra for as low as 162 per dose br ciali super viagra for as low as 438 per dose levitra for as low as 444 per dose much much special offer today you need 15 minut to be readi for action most need medic avail viagra ciali levitra prope cia much much free ship worlwid no doctor visit no prescript full custom satisfact click visit new drugstor best regard', 'less weight pleasur joyanatrim 96 the latest delight product weighti people20 readili avail 96 as shown cnn can recal time ask thing to20 get rid fastli grow pound fat happili big20 offer expect with anatrim groundbreak weightreducing20 medley get healthier mode life becom realli thinner20 have look custom say it92 rather difficult admit i extrem addict to20 food i greedili ate garbig could stop thi fatal passion left i start cours take anatrim god inclin eat constantli vanish mood improv i92m happiest person planet 17 pound in20 28 month so i tell i92m happiest person lusia r chicago sinc earli childhood i weighti boy it92 difficult imagin i abhor mock school i abhor stout i abhor after tri mani differ remedi i found anatrim it liter took fear nightmar mani many20 thank guy rikki martin washington you know my marriag save thank anatrim i got the20 circl depress 96 eat 96 even depress my wife was20 think leav i turn overweight psycho one best friend point web page i order pack of20 anatrim time the final result magnfic appetit came normal level i20 often good mood cours i becam abl tighten my20 belt hole and see bed becam cool charley there mani mani sincer gratitud left happi peopl taking20 anatrim whi dont join ten thousand slender men and20 women tri natur appetit abat energi lift product do declin opportun check wonder pound melt anatrim 96 the latest delight product weighti people20 readili avail 96 as shown cnn can recal time ask thing to20 get rid fastli grow pound fat happili big20 offer expect with anatrim groundbreak weightreducing20 medley get healthier mode life becom realli thinner20 have look custom say it92 rather difficult admit i extrem addict to20 food i greedili ate garbig could stop thi fatal passion left i start cours take anatrim god inclin eat constantli vanish mood improv i92m happiest person planet 17 pound in20 28 month so i tell i92m happiest person lusia r chicago sinc earli childhood i weighti boy it92 difficult imagin i abhor mock school i abhor stout i abhor after tri mani differ remedi i found anatrim it liter took fear nightmar mani many20 thank guy rikki martin washington you know my marriag save thank anatrim i got the20 circl depress 96 eat 96 even depress my wife was20 think leav i turn overweight psycho one best friend point web page i order pack of20 anatrim time the final result magnfic appetit came normal level i20 often good mood cours i becam abl tighten my20 belt hole and see bed becam cool charley there mani mani sincer gratitud left happi peopl taking20 anatrim whi dont join ten thousand slender men and20 women tri natur appetit abat energi lift product do declin opportun', 'anatrim chang lifeanatrim – the latest enchant product weighti peopl avail – as told cnn can retain case ask thing deliv desper grow number kilo happili great price paid with anatrim groundbreak weightreduc combin element achiev healthier lifestyl becom realli slimmer take look peopl state it’ unbear difficult admit i exceedingli addict food i swallow garbig could stop thi torment stop i start cours anatrim holi god inclin eat constantli abat mood increas i turn happiest person planet 23 pound 22 month i tell i becam happiest person world linda f boston i problem overweight sinc boy you cant fanci i detest derid school i detest plump i detest after tri mani differ remedi i heard anatrim it liter pull dread nightmar mani mani thank guy steve doubt boston know anatrim preserv marriag i went circl depress – eat – even depress my wife leav i turn overweight psycho one friend show site i ask anatrim time the final result magnfic appetit becam normal i good mood often certainli i went belt hole back and bedroom becam cool also michael there mani mani testimoni left happi peopl tri anatrim don’t gonna join ten thousand slender buyer take natur appetitereduc power increas product do lose chanc achiev pictur perfect weight enjoy life anatrim – the latest enchant product weighti peopl avail – as told cnn can retain case ask thing deliv desper grow number kilo happili great price paid with anatrim groundbreak weightreduc combin element achiev healthier lifestyl becom realli slimmer take look peopl state it’ unbear difficult admit i exceedingli addict food i swallow garbig could stop thi torment stop i start cours anatrim holi god inclin eat constantli abat mood increas i turn happiest person planet 23 pound 22 month i tell i becam happiest person world linda f boston i problem overweight sinc boy you cant fanci i detest derid school i detest plump i detest after tri mani differ remedi i heard anatrim it liter pull dread nightmar mani mani thank guy steve doubt boston know anatrim preserv marriag i went circl depress – eat – even depress my wife leav i turn overweight psycho one friend show site i ask anatrim time the final result magnfic appetit becam normal i good mood often certainli i went belt hole back and bedroom becam cool also michael there mani mani testimoni left happi peopl tri anatrim don’t gonna join ten thousand slender buyer take natur appetitereduc power increas product do lose chanc', 'problem anim studi use rat rabbit feed outdoormovement tablet i could even select brush size the modernist titud mainstream societi pin away comput program i fig ure far troubl prepar career n ew area fortun technolog overexposur much like peopl get sick tire larg r shop total computer state downtown offic space drive rentleas price bore balanc harmo niou uninterest there abl explor local five sens it ray scientist believ electron creatur sinc power h ad gon e wed watch televis exampl tool choos abil combin i could use comput artmak process as turn printer graphic artist among mani specialti void ph ysical tangiblethi difficult concept give scientist observationa l advantag without lengthi come the person comput becom central nervou sentenc so random truth mean motiv factor behind design major contributor enjoy may futur post offic integr hope discov matter enabl a trend seem occur rapidli give rise order pizza simpl e command remot control effect exactli al life retriev memori variou method includ content amer youth cultur they listen music due growth internet virtual realiti comput cohes inform countri world in old shop older signmak comput thi comput consol g iggl stick ling cod twentythre purpl perch four state aro und canada mexico last addit inform e asi access search knowledg trade fool plain anoth charac ter must visual head the advantag technolog er artist architect outcom modern technolog sch ool the internet fellow american refrain form militari essenc conv nienc effici drive forc yet reach full poten tial i imagin futur movement tablet i could even select brush size the modernist attitud mainstream societi pinn ing away comput program i figur far troubl hey prepar career new area fortun technolog overexposur much like peopl wh get sick tire larger shop total computer state downtown offic space drive rentleas price bore balanc harmoni uninterest there abl explor local five sens it ray scientist believ electron ic creatur sinc power h ad gone wed watch televis exampl tool choos abil combin i could use comput artma king process as turn printer graphic artist among mani ot specialti void physic tangiblethi difficult con cept give scientist observ advantag without lengthi come the person comput becom e central nervou sentenc so random truth mean motiv factor behind design major contributor enjoy may futur post offic integr hope discov matter enabl a trend seem occur rapidli give r ise order pizza simpl command remot control effect ive exactli real life retriev memori variou ethod includ content american youth cultur they listen music due growth internet virtual realiti comput cohes inform countri world in old shop older signmak comput thi comput consol giggl stick ling cod twentythre pur ple perch four state around canada mexico last addit inform easi access search knowledg trade fool ing plain anoth charact must visual hea the advantag technolog offer artist architect utcom modern technolog school the internet fellow american refrain ny form militari essenc conveni effici drive forc yet reach full potenti i imagin futur font', 'we cure deseas']\n",
      "y: ['spam', 'ham', 'spam', 'spam', 'spam', 'spam', 'spam', 'spam', 'spam', 'ham', 'spam', 'spam', 'spam', 'spam', 'spam']\n"
     ]
    }
   ],
   "source": [
    "# Leemos únicamente un subconjunto de 100 correos electrónicos\n",
    "X_train, y_train = create_prep_dataset(\"datasets/trec07p/full/index\", 100)"
   ]
  },
  {
   "cell_type": "markdown",
   "metadata": {},
   "source": [
    "##### Aplicamos la vectorización a los datos"
   ]
  },
  {
   "cell_type": "code",
   "execution_count": 54,
   "metadata": {},
   "outputs": [],
   "source": [
    "vectorizer = CountVectorizer(max_features=10, min_df=2, max_df=0.9)\n",
    "X_train = vectorizer.fit_transform(X_train)"
   ]
  },
  {
   "cell_type": "code",
   "execution_count": 56,
   "metadata": {},
   "outputs": [
    {
     "name": "stdout",
     "output_type": "stream",
     "text": [
      "[[ 0  0  0  0  0  0  0  0  0  0]\n",
      " [ 0  0  0  1  0  0  0  0  0  1]\n",
      " [ 0  0  0  2  0  0  0  0  0  0]\n",
      " [ 0  0  0  0  0  1  0  2  0  1]\n",
      " [10  0  0  4  0  0  4  0  6  0]\n",
      " [10  2  0  6  0  2  3  0  6  2]\n",
      " [ 0  0  0  0  0  0  4  0  0  0]\n",
      " [ 0  1  0  0  0  0  0  0  0  0]\n",
      " [ 0  0  0  0  0  0  0  0  0  0]\n",
      " [ 0  0  0  0  0  0  1  0  0  0]\n",
      " [ 0  0  0  0  0  0  4  0  0  0]\n",
      " [ 0  4  0  2  2  8  0  2  2  4]\n",
      " [ 0  0  0  4  1 10  0  2  6  4]\n",
      " [12  2  0  2  2  2  1  0  2  8]\n",
      " [ 0  0  0  0  0  0  0  0  0  0]\n",
      " [ 0  2 10  2 10  0  0  2  0  2]\n",
      " [ 0  0  0  0  0  1  0  2  0  1]\n",
      " [ 6  2  0  4  0  2  3  4  3  4]\n",
      " [10  4  0  6  0  0  0  2  6  2]\n",
      " [ 0  0  0  0  0  0  1  0  0  0]\n",
      " [ 0  2  0  0  0  0  0  1  0  0]\n",
      " [ 0  0  0  0  0  0  0  0  0  0]\n",
      " [ 0  0  0  0  0  0  0  0  0  0]\n",
      " [ 0  0  0  0  0  0  0  0  0  0]\n",
      " [ 0  0  6  2  4  2  0  0  0  0]\n",
      " [ 0  0  0  0  0  0  0  0  0  0]\n",
      " [ 0  0  0  0  2  0  0  0  4  6]\n",
      " [ 0  1  0  0  0  0  0  1  0  1]\n",
      " [ 0  1  0  0  0  0  0  0  0  0]\n",
      " [ 0  0  0  0  0  0  0  0  0  0]\n",
      " [ 0  2  0  0  0  0  0  3  0  2]\n",
      " [ 0  2 11  2 10  0  0  2  0  2]\n",
      " [ 0  1  0  0  0  0  2  0  2  6]\n",
      " [ 0  0  0  0  0  0  2  1  0  1]\n",
      " [ 0  1  0  0  0  0  0  1  0  2]\n",
      " [ 0  0  0  1  0  0  7  1  1 10]\n",
      " [ 0  0  0  0  0  0  0  0  0  0]\n",
      " [ 0  0  0  0  0  4  7  0  0  3]\n",
      " [ 0  0  0  2  0  0  0  0  0  0]\n",
      " [ 0  0  6  2  4  2  0  0  0  0]\n",
      " [ 0  0  0  0  0  0  0  0  0  0]\n",
      " [ 0  3  0  0  0  2  1  0  0  2]\n",
      " [ 0  0  0  0  0  0  0  0  0  0]\n",
      " [ 0  0  0  0  0  0  0  0  0  2]\n",
      " [ 0  1  0  1  0  0  1  0  0 10]\n",
      " [ 0  0  0  0  0  0  0  0  2  1]\n",
      " [ 0  0  0  2  0  0  0  0  0  0]\n",
      " [ 0  1  0  0  0  0  0  0  0  1]\n",
      " [ 0  0  0  0  0  0  0  0  0  0]\n",
      " [ 0  0  0  0  0  0  0  0  0  0]\n",
      " [ 0  0  0  0  0  0  0  0  0  0]\n",
      " [ 0  0  0  0  0  0  0  0  0  0]\n",
      " [ 0  0  0  0  0  0  0  0  0  0]\n",
      " [ 0  2  0  2  0  0  2  4  2  2]\n",
      " [ 0  0  0  0  0  6  2 10  2  1]\n",
      " [ 0  0  0  0  0  0  0  0  0  0]\n",
      " [ 0  0  0  0  0  0  0  0  0  0]\n",
      " [ 0  0  0  0  0  0  0  0  0  0]\n",
      " [ 0  0  0  0  0  0  0  0  0  0]\n",
      " [ 0  0  0  0  0  0  0  0  0  0]\n",
      " [ 0  0  0  1  0  0  1  3  0  0]\n",
      " [ 0  0  0  0  0  0  0  0  0  0]\n",
      " [ 0  2 11  2 10  0  0  2  0  2]\n",
      " [ 0  0  0  1  0  3  3  2  0 23]\n",
      " [ 0  0  0  0  0  0  1  0  0  0]\n",
      " [ 0  0  0  0  0  0  0  0  0  0]\n",
      " [ 0  0  0  0  0  0  0  0  0  0]\n",
      " [ 0  4  0  0  2  0  0  0  0  0]\n",
      " [ 0  0  0  0  0  0  0  0  0  0]\n",
      " [ 0  4  0  0  2  0  0  0  0  0]\n",
      " [ 0  0  0  0  0  0  0  0  0  0]\n",
      " [ 0  1  0  0  0  0  0  0  0  0]\n",
      " [ 0  0  0  0  0  0  0  0  0  0]\n",
      " [ 0  0  0  0  0  0  0  0  0  0]\n",
      " [ 0  0  0  0  0  0  0  0  0  0]\n",
      " [ 0  0  0  0  0  0  0  0  0  0]\n",
      " [ 0  1  0  0  0  0  3  0  0  2]\n",
      " [ 0  0  0  0  0  0  0  0  0  0]\n",
      " [ 0  0  0  1  0  0  1  2  0  0]\n",
      " [ 0  0  0  0  0  0  0  0  0  0]\n",
      " [ 0  3  0  2  0  0  0  0  0  1]\n",
      " [ 0  4  0  0  2  0  0  0  0  0]\n",
      " [ 0  0  0  0  0  0  0  0  0  0]\n",
      " [ 1  1  0  0  0  0  0  0  0  0]\n",
      " [ 0  0  0  0  0  0  0  0  0  0]\n",
      " [ 0  0  0  0  0  0  1  0  0  0]\n",
      " [ 0  0  6  2  4  2  0  0  0  0]\n",
      " [ 0  0  0  2  0  2  0  2  0  1]\n",
      " [ 0  0  0  0  0  0  0  0  0  0]\n",
      " [ 0  3  0  0  2  0  0  2  0  1]\n",
      " [ 0  0  0  0  0  0  1  0  0  0]\n",
      " [ 0  0  0  0  0  0  0  0  0  0]\n",
      " [ 0  0  0  0  0  0  0  0  0  0]\n",
      " [ 0  0  0  0  0  0  0  0  0  0]\n",
      " [ 0  0  0  1  2  0  2 10  4  1]\n",
      " [ 0  0  0  0  0  0  0  0  0  0]\n",
      " [ 0  0  0  0  0  0  0  0  0  0]\n",
      " [ 0  0  0  0  0  0  0  0  0  0]]\n",
      "\n",
      "Features: 10\n"
     ]
    }
   ],
   "source": [
    "print(X_train.toarray())\n",
    "print(\"\\nFeatures:\", len(vectorizer.get_feature_names_out()))"
   ]
  },
  {
   "cell_type": "code",
   "execution_count": 58,
   "metadata": {},
   "outputs": [
    {
     "data": {
      "text/html": [
       "<div>\n",
       "<style scoped>\n",
       "    .dataframe tbody tr th:only-of-type {\n",
       "        vertical-align: middle;\n",
       "    }\n",
       "\n",
       "    .dataframe tbody tr th {\n",
       "        vertical-align: top;\n",
       "    }\n",
       "\n",
       "    .dataframe thead tr th {\n",
       "        text-align: left;\n",
       "    }\n",
       "</style>\n",
       "<table border=\"1\" class=\"dataframe\">\n",
       "  <thead>\n",
       "    <tr>\n",
       "      <th></th>\n",
       "      <th>comput</th>\n",
       "      <th>get</th>\n",
       "      <th>hgh</th>\n",
       "      <th>it</th>\n",
       "      <th>life</th>\n",
       "      <th>mani</th>\n",
       "      <th>new</th>\n",
       "      <th>one</th>\n",
       "      <th>peopl</th>\n",
       "      <th>the</th>\n",
       "    </tr>\n",
       "  </thead>\n",
       "  <tbody>\n",
       "    <tr>\n",
       "      <th>0</th>\n",
       "      <td>0</td>\n",
       "      <td>0</td>\n",
       "      <td>0</td>\n",
       "      <td>0</td>\n",
       "      <td>0</td>\n",
       "      <td>0</td>\n",
       "      <td>0</td>\n",
       "      <td>0</td>\n",
       "      <td>0</td>\n",
       "      <td>0</td>\n",
       "    </tr>\n",
       "    <tr>\n",
       "      <th>1</th>\n",
       "      <td>0</td>\n",
       "      <td>0</td>\n",
       "      <td>0</td>\n",
       "      <td>1</td>\n",
       "      <td>0</td>\n",
       "      <td>0</td>\n",
       "      <td>0</td>\n",
       "      <td>0</td>\n",
       "      <td>0</td>\n",
       "      <td>1</td>\n",
       "    </tr>\n",
       "    <tr>\n",
       "      <th>2</th>\n",
       "      <td>0</td>\n",
       "      <td>0</td>\n",
       "      <td>0</td>\n",
       "      <td>2</td>\n",
       "      <td>0</td>\n",
       "      <td>0</td>\n",
       "      <td>0</td>\n",
       "      <td>0</td>\n",
       "      <td>0</td>\n",
       "      <td>0</td>\n",
       "    </tr>\n",
       "    <tr>\n",
       "      <th>3</th>\n",
       "      <td>0</td>\n",
       "      <td>0</td>\n",
       "      <td>0</td>\n",
       "      <td>0</td>\n",
       "      <td>0</td>\n",
       "      <td>1</td>\n",
       "      <td>0</td>\n",
       "      <td>2</td>\n",
       "      <td>0</td>\n",
       "      <td>1</td>\n",
       "    </tr>\n",
       "    <tr>\n",
       "      <th>4</th>\n",
       "      <td>10</td>\n",
       "      <td>0</td>\n",
       "      <td>0</td>\n",
       "      <td>4</td>\n",
       "      <td>0</td>\n",
       "      <td>0</td>\n",
       "      <td>4</td>\n",
       "      <td>0</td>\n",
       "      <td>6</td>\n",
       "      <td>0</td>\n",
       "    </tr>\n",
       "    <tr>\n",
       "      <th>...</th>\n",
       "      <td>...</td>\n",
       "      <td>...</td>\n",
       "      <td>...</td>\n",
       "      <td>...</td>\n",
       "      <td>...</td>\n",
       "      <td>...</td>\n",
       "      <td>...</td>\n",
       "      <td>...</td>\n",
       "      <td>...</td>\n",
       "      <td>...</td>\n",
       "    </tr>\n",
       "    <tr>\n",
       "      <th>93</th>\n",
       "      <td>0</td>\n",
       "      <td>0</td>\n",
       "      <td>0</td>\n",
       "      <td>0</td>\n",
       "      <td>0</td>\n",
       "      <td>0</td>\n",
       "      <td>0</td>\n",
       "      <td>0</td>\n",
       "      <td>0</td>\n",
       "      <td>0</td>\n",
       "    </tr>\n",
       "    <tr>\n",
       "      <th>94</th>\n",
       "      <td>0</td>\n",
       "      <td>0</td>\n",
       "      <td>0</td>\n",
       "      <td>1</td>\n",
       "      <td>2</td>\n",
       "      <td>0</td>\n",
       "      <td>2</td>\n",
       "      <td>10</td>\n",
       "      <td>4</td>\n",
       "      <td>1</td>\n",
       "    </tr>\n",
       "    <tr>\n",
       "      <th>95</th>\n",
       "      <td>0</td>\n",
       "      <td>0</td>\n",
       "      <td>0</td>\n",
       "      <td>0</td>\n",
       "      <td>0</td>\n",
       "      <td>0</td>\n",
       "      <td>0</td>\n",
       "      <td>0</td>\n",
       "      <td>0</td>\n",
       "      <td>0</td>\n",
       "    </tr>\n",
       "    <tr>\n",
       "      <th>96</th>\n",
       "      <td>0</td>\n",
       "      <td>0</td>\n",
       "      <td>0</td>\n",
       "      <td>0</td>\n",
       "      <td>0</td>\n",
       "      <td>0</td>\n",
       "      <td>0</td>\n",
       "      <td>0</td>\n",
       "      <td>0</td>\n",
       "      <td>0</td>\n",
       "    </tr>\n",
       "    <tr>\n",
       "      <th>97</th>\n",
       "      <td>0</td>\n",
       "      <td>0</td>\n",
       "      <td>0</td>\n",
       "      <td>0</td>\n",
       "      <td>0</td>\n",
       "      <td>0</td>\n",
       "      <td>0</td>\n",
       "      <td>0</td>\n",
       "      <td>0</td>\n",
       "      <td>0</td>\n",
       "    </tr>\n",
       "  </tbody>\n",
       "</table>\n",
       "<p>98 rows × 10 columns</p>\n",
       "</div>"
      ],
      "text/plain": [
       "   comput get hgh it life mani new one peopl the\n",
       "0       0   0   0  0    0    0   0   0     0   0\n",
       "1       0   0   0  1    0    0   0   0     0   1\n",
       "2       0   0   0  2    0    0   0   0     0   0\n",
       "3       0   0   0  0    0    1   0   2     0   1\n",
       "4      10   0   0  4    0    0   4   0     6   0\n",
       "..    ...  ..  .. ..  ...  ...  ..  ..   ...  ..\n",
       "93      0   0   0  0    0    0   0   0     0   0\n",
       "94      0   0   0  1    2    0   2  10     4   1\n",
       "95      0   0   0  0    0    0   0   0     0   0\n",
       "96      0   0   0  0    0    0   0   0     0   0\n",
       "97      0   0   0  0    0    0   0   0     0   0\n",
       "\n",
       "[98 rows x 10 columns]"
      ]
     },
     "execution_count": 58,
     "metadata": {},
     "output_type": "execute_result"
    }
   ],
   "source": [
    "import pandas as pd\n",
    "\n",
    "pd.DataFrame(X_train.toarray(), columns=[vectorizer.get_feature_names_out()])"
   ]
  },
  {
   "cell_type": "code",
   "execution_count": 60,
   "metadata": {
    "scrolled": true
   },
   "outputs": [
    {
     "data": {
      "text/plain": [
       "['spam',\n",
       " 'ham',\n",
       " 'spam',\n",
       " 'spam',\n",
       " 'spam',\n",
       " 'spam',\n",
       " 'spam',\n",
       " 'spam',\n",
       " 'spam',\n",
       " 'ham',\n",
       " 'spam',\n",
       " 'spam',\n",
       " 'spam',\n",
       " 'spam',\n",
       " 'spam',\n",
       " 'spam',\n",
       " 'spam',\n",
       " 'spam',\n",
       " 'spam',\n",
       " 'ham',\n",
       " 'ham',\n",
       " 'spam',\n",
       " 'spam',\n",
       " 'spam',\n",
       " 'spam',\n",
       " 'spam',\n",
       " 'spam',\n",
       " 'spam',\n",
       " 'ham',\n",
       " 'spam',\n",
       " 'ham',\n",
       " 'spam',\n",
       " 'spam',\n",
       " 'ham',\n",
       " 'spam',\n",
       " 'spam',\n",
       " 'spam',\n",
       " 'spam',\n",
       " 'spam',\n",
       " 'spam',\n",
       " 'spam',\n",
       " 'spam',\n",
       " 'spam',\n",
       " 'spam',\n",
       " 'spam',\n",
       " 'spam',\n",
       " 'spam',\n",
       " 'spam',\n",
       " 'ham',\n",
       " 'ham',\n",
       " 'spam',\n",
       " 'spam',\n",
       " 'spam',\n",
       " 'spam',\n",
       " 'spam',\n",
       " 'spam',\n",
       " 'ham',\n",
       " 'spam',\n",
       " 'ham',\n",
       " 'spam',\n",
       " 'spam',\n",
       " 'ham',\n",
       " 'spam',\n",
       " 'spam',\n",
       " 'spam',\n",
       " 'ham',\n",
       " 'ham',\n",
       " 'spam',\n",
       " 'spam',\n",
       " 'spam',\n",
       " 'ham',\n",
       " 'ham',\n",
       " 'ham',\n",
       " 'spam',\n",
       " 'ham',\n",
       " 'spam',\n",
       " 'ham',\n",
       " 'spam',\n",
       " 'spam',\n",
       " 'spam',\n",
       " 'ham',\n",
       " 'spam',\n",
       " 'spam',\n",
       " 'ham',\n",
       " 'spam',\n",
       " 'ham',\n",
       " 'spam',\n",
       " 'spam',\n",
       " 'ham',\n",
       " 'spam',\n",
       " 'spam',\n",
       " 'spam',\n",
       " 'spam',\n",
       " 'spam',\n",
       " 'spam',\n",
       " 'spam',\n",
       " 'spam',\n",
       " 'spam']"
      ]
     },
     "execution_count": 60,
     "metadata": {},
     "output_type": "execute_result"
    }
   ],
   "source": [
    "y_train"
   ]
  },
  {
   "cell_type": "markdown",
   "metadata": {},
   "source": [
    "###### Entrenamiento del algoritmo de regresión logística con el conjunto de datos preprocesado"
   ]
  },
  {
   "cell_type": "code",
   "execution_count": 63,
   "metadata": {},
   "outputs": [
    {
     "data": {
      "text/html": [
       "<style>#sk-container-id-1 {\n",
       "  /* Definition of color scheme common for light and dark mode */\n",
       "  --sklearn-color-text: black;\n",
       "  --sklearn-color-line: gray;\n",
       "  /* Definition of color scheme for unfitted estimators */\n",
       "  --sklearn-color-unfitted-level-0: #fff5e6;\n",
       "  --sklearn-color-unfitted-level-1: #f6e4d2;\n",
       "  --sklearn-color-unfitted-level-2: #ffe0b3;\n",
       "  --sklearn-color-unfitted-level-3: chocolate;\n",
       "  /* Definition of color scheme for fitted estimators */\n",
       "  --sklearn-color-fitted-level-0: #f0f8ff;\n",
       "  --sklearn-color-fitted-level-1: #d4ebff;\n",
       "  --sklearn-color-fitted-level-2: #b3dbfd;\n",
       "  --sklearn-color-fitted-level-3: cornflowerblue;\n",
       "\n",
       "  /* Specific color for light theme */\n",
       "  --sklearn-color-text-on-default-background: var(--sg-text-color, var(--theme-code-foreground, var(--jp-content-font-color1, black)));\n",
       "  --sklearn-color-background: var(--sg-background-color, var(--theme-background, var(--jp-layout-color0, white)));\n",
       "  --sklearn-color-border-box: var(--sg-text-color, var(--theme-code-foreground, var(--jp-content-font-color1, black)));\n",
       "  --sklearn-color-icon: #696969;\n",
       "\n",
       "  @media (prefers-color-scheme: dark) {\n",
       "    /* Redefinition of color scheme for dark theme */\n",
       "    --sklearn-color-text-on-default-background: var(--sg-text-color, var(--theme-code-foreground, var(--jp-content-font-color1, white)));\n",
       "    --sklearn-color-background: var(--sg-background-color, var(--theme-background, var(--jp-layout-color0, #111)));\n",
       "    --sklearn-color-border-box: var(--sg-text-color, var(--theme-code-foreground, var(--jp-content-font-color1, white)));\n",
       "    --sklearn-color-icon: #878787;\n",
       "  }\n",
       "}\n",
       "\n",
       "#sk-container-id-1 {\n",
       "  color: var(--sklearn-color-text);\n",
       "}\n",
       "\n",
       "#sk-container-id-1 pre {\n",
       "  padding: 0;\n",
       "}\n",
       "\n",
       "#sk-container-id-1 input.sk-hidden--visually {\n",
       "  border: 0;\n",
       "  clip: rect(1px 1px 1px 1px);\n",
       "  clip: rect(1px, 1px, 1px, 1px);\n",
       "  height: 1px;\n",
       "  margin: -1px;\n",
       "  overflow: hidden;\n",
       "  padding: 0;\n",
       "  position: absolute;\n",
       "  width: 1px;\n",
       "}\n",
       "\n",
       "#sk-container-id-1 div.sk-dashed-wrapped {\n",
       "  border: 1px dashed var(--sklearn-color-line);\n",
       "  margin: 0 0.4em 0.5em 0.4em;\n",
       "  box-sizing: border-box;\n",
       "  padding-bottom: 0.4em;\n",
       "  background-color: var(--sklearn-color-background);\n",
       "}\n",
       "\n",
       "#sk-container-id-1 div.sk-container {\n",
       "  /* jupyter's `normalize.less` sets `[hidden] { display: none; }`\n",
       "     but bootstrap.min.css set `[hidden] { display: none !important; }`\n",
       "     so we also need the `!important` here to be able to override the\n",
       "     default hidden behavior on the sphinx rendered scikit-learn.org.\n",
       "     See: https://github.com/scikit-learn/scikit-learn/issues/21755 */\n",
       "  display: inline-block !important;\n",
       "  position: relative;\n",
       "}\n",
       "\n",
       "#sk-container-id-1 div.sk-text-repr-fallback {\n",
       "  display: none;\n",
       "}\n",
       "\n",
       "div.sk-parallel-item,\n",
       "div.sk-serial,\n",
       "div.sk-item {\n",
       "  /* draw centered vertical line to link estimators */\n",
       "  background-image: linear-gradient(var(--sklearn-color-text-on-default-background), var(--sklearn-color-text-on-default-background));\n",
       "  background-size: 2px 100%;\n",
       "  background-repeat: no-repeat;\n",
       "  background-position: center center;\n",
       "}\n",
       "\n",
       "/* Parallel-specific style estimator block */\n",
       "\n",
       "#sk-container-id-1 div.sk-parallel-item::after {\n",
       "  content: \"\";\n",
       "  width: 100%;\n",
       "  border-bottom: 2px solid var(--sklearn-color-text-on-default-background);\n",
       "  flex-grow: 1;\n",
       "}\n",
       "\n",
       "#sk-container-id-1 div.sk-parallel {\n",
       "  display: flex;\n",
       "  align-items: stretch;\n",
       "  justify-content: center;\n",
       "  background-color: var(--sklearn-color-background);\n",
       "  position: relative;\n",
       "}\n",
       "\n",
       "#sk-container-id-1 div.sk-parallel-item {\n",
       "  display: flex;\n",
       "  flex-direction: column;\n",
       "}\n",
       "\n",
       "#sk-container-id-1 div.sk-parallel-item:first-child::after {\n",
       "  align-self: flex-end;\n",
       "  width: 50%;\n",
       "}\n",
       "\n",
       "#sk-container-id-1 div.sk-parallel-item:last-child::after {\n",
       "  align-self: flex-start;\n",
       "  width: 50%;\n",
       "}\n",
       "\n",
       "#sk-container-id-1 div.sk-parallel-item:only-child::after {\n",
       "  width: 0;\n",
       "}\n",
       "\n",
       "/* Serial-specific style estimator block */\n",
       "\n",
       "#sk-container-id-1 div.sk-serial {\n",
       "  display: flex;\n",
       "  flex-direction: column;\n",
       "  align-items: center;\n",
       "  background-color: var(--sklearn-color-background);\n",
       "  padding-right: 1em;\n",
       "  padding-left: 1em;\n",
       "}\n",
       "\n",
       "\n",
       "/* Toggleable style: style used for estimator/Pipeline/ColumnTransformer box that is\n",
       "clickable and can be expanded/collapsed.\n",
       "- Pipeline and ColumnTransformer use this feature and define the default style\n",
       "- Estimators will overwrite some part of the style using the `sk-estimator` class\n",
       "*/\n",
       "\n",
       "/* Pipeline and ColumnTransformer style (default) */\n",
       "\n",
       "#sk-container-id-1 div.sk-toggleable {\n",
       "  /* Default theme specific background. It is overwritten whether we have a\n",
       "  specific estimator or a Pipeline/ColumnTransformer */\n",
       "  background-color: var(--sklearn-color-background);\n",
       "}\n",
       "\n",
       "/* Toggleable label */\n",
       "#sk-container-id-1 label.sk-toggleable__label {\n",
       "  cursor: pointer;\n",
       "  display: block;\n",
       "  width: 100%;\n",
       "  margin-bottom: 0;\n",
       "  padding: 0.5em;\n",
       "  box-sizing: border-box;\n",
       "  text-align: center;\n",
       "}\n",
       "\n",
       "#sk-container-id-1 label.sk-toggleable__label-arrow:before {\n",
       "  /* Arrow on the left of the label */\n",
       "  content: \"▸\";\n",
       "  float: left;\n",
       "  margin-right: 0.25em;\n",
       "  color: var(--sklearn-color-icon);\n",
       "}\n",
       "\n",
       "#sk-container-id-1 label.sk-toggleable__label-arrow:hover:before {\n",
       "  color: var(--sklearn-color-text);\n",
       "}\n",
       "\n",
       "/* Toggleable content - dropdown */\n",
       "\n",
       "#sk-container-id-1 div.sk-toggleable__content {\n",
       "  max-height: 0;\n",
       "  max-width: 0;\n",
       "  overflow: hidden;\n",
       "  text-align: left;\n",
       "  /* unfitted */\n",
       "  background-color: var(--sklearn-color-unfitted-level-0);\n",
       "}\n",
       "\n",
       "#sk-container-id-1 div.sk-toggleable__content.fitted {\n",
       "  /* fitted */\n",
       "  background-color: var(--sklearn-color-fitted-level-0);\n",
       "}\n",
       "\n",
       "#sk-container-id-1 div.sk-toggleable__content pre {\n",
       "  margin: 0.2em;\n",
       "  border-radius: 0.25em;\n",
       "  color: var(--sklearn-color-text);\n",
       "  /* unfitted */\n",
       "  background-color: var(--sklearn-color-unfitted-level-0);\n",
       "}\n",
       "\n",
       "#sk-container-id-1 div.sk-toggleable__content.fitted pre {\n",
       "  /* unfitted */\n",
       "  background-color: var(--sklearn-color-fitted-level-0);\n",
       "}\n",
       "\n",
       "#sk-container-id-1 input.sk-toggleable__control:checked~div.sk-toggleable__content {\n",
       "  /* Expand drop-down */\n",
       "  max-height: 200px;\n",
       "  max-width: 100%;\n",
       "  overflow: auto;\n",
       "}\n",
       "\n",
       "#sk-container-id-1 input.sk-toggleable__control:checked~label.sk-toggleable__label-arrow:before {\n",
       "  content: \"▾\";\n",
       "}\n",
       "\n",
       "/* Pipeline/ColumnTransformer-specific style */\n",
       "\n",
       "#sk-container-id-1 div.sk-label input.sk-toggleable__control:checked~label.sk-toggleable__label {\n",
       "  color: var(--sklearn-color-text);\n",
       "  background-color: var(--sklearn-color-unfitted-level-2);\n",
       "}\n",
       "\n",
       "#sk-container-id-1 div.sk-label.fitted input.sk-toggleable__control:checked~label.sk-toggleable__label {\n",
       "  background-color: var(--sklearn-color-fitted-level-2);\n",
       "}\n",
       "\n",
       "/* Estimator-specific style */\n",
       "\n",
       "/* Colorize estimator box */\n",
       "#sk-container-id-1 div.sk-estimator input.sk-toggleable__control:checked~label.sk-toggleable__label {\n",
       "  /* unfitted */\n",
       "  background-color: var(--sklearn-color-unfitted-level-2);\n",
       "}\n",
       "\n",
       "#sk-container-id-1 div.sk-estimator.fitted input.sk-toggleable__control:checked~label.sk-toggleable__label {\n",
       "  /* fitted */\n",
       "  background-color: var(--sklearn-color-fitted-level-2);\n",
       "}\n",
       "\n",
       "#sk-container-id-1 div.sk-label label.sk-toggleable__label,\n",
       "#sk-container-id-1 div.sk-label label {\n",
       "  /* The background is the default theme color */\n",
       "  color: var(--sklearn-color-text-on-default-background);\n",
       "}\n",
       "\n",
       "/* On hover, darken the color of the background */\n",
       "#sk-container-id-1 div.sk-label:hover label.sk-toggleable__label {\n",
       "  color: var(--sklearn-color-text);\n",
       "  background-color: var(--sklearn-color-unfitted-level-2);\n",
       "}\n",
       "\n",
       "/* Label box, darken color on hover, fitted */\n",
       "#sk-container-id-1 div.sk-label.fitted:hover label.sk-toggleable__label.fitted {\n",
       "  color: var(--sklearn-color-text);\n",
       "  background-color: var(--sklearn-color-fitted-level-2);\n",
       "}\n",
       "\n",
       "/* Estimator label */\n",
       "\n",
       "#sk-container-id-1 div.sk-label label {\n",
       "  font-family: monospace;\n",
       "  font-weight: bold;\n",
       "  display: inline-block;\n",
       "  line-height: 1.2em;\n",
       "}\n",
       "\n",
       "#sk-container-id-1 div.sk-label-container {\n",
       "  text-align: center;\n",
       "}\n",
       "\n",
       "/* Estimator-specific */\n",
       "#sk-container-id-1 div.sk-estimator {\n",
       "  font-family: monospace;\n",
       "  border: 1px dotted var(--sklearn-color-border-box);\n",
       "  border-radius: 0.25em;\n",
       "  box-sizing: border-box;\n",
       "  margin-bottom: 0.5em;\n",
       "  /* unfitted */\n",
       "  background-color: var(--sklearn-color-unfitted-level-0);\n",
       "}\n",
       "\n",
       "#sk-container-id-1 div.sk-estimator.fitted {\n",
       "  /* fitted */\n",
       "  background-color: var(--sklearn-color-fitted-level-0);\n",
       "}\n",
       "\n",
       "/* on hover */\n",
       "#sk-container-id-1 div.sk-estimator:hover {\n",
       "  /* unfitted */\n",
       "  background-color: var(--sklearn-color-unfitted-level-2);\n",
       "}\n",
       "\n",
       "#sk-container-id-1 div.sk-estimator.fitted:hover {\n",
       "  /* fitted */\n",
       "  background-color: var(--sklearn-color-fitted-level-2);\n",
       "}\n",
       "\n",
       "/* Specification for estimator info (e.g. \"i\" and \"?\") */\n",
       "\n",
       "/* Common style for \"i\" and \"?\" */\n",
       "\n",
       ".sk-estimator-doc-link,\n",
       "a:link.sk-estimator-doc-link,\n",
       "a:visited.sk-estimator-doc-link {\n",
       "  float: right;\n",
       "  font-size: smaller;\n",
       "  line-height: 1em;\n",
       "  font-family: monospace;\n",
       "  background-color: var(--sklearn-color-background);\n",
       "  border-radius: 1em;\n",
       "  height: 1em;\n",
       "  width: 1em;\n",
       "  text-decoration: none !important;\n",
       "  margin-left: 1ex;\n",
       "  /* unfitted */\n",
       "  border: var(--sklearn-color-unfitted-level-1) 1pt solid;\n",
       "  color: var(--sklearn-color-unfitted-level-1);\n",
       "}\n",
       "\n",
       ".sk-estimator-doc-link.fitted,\n",
       "a:link.sk-estimator-doc-link.fitted,\n",
       "a:visited.sk-estimator-doc-link.fitted {\n",
       "  /* fitted */\n",
       "  border: var(--sklearn-color-fitted-level-1) 1pt solid;\n",
       "  color: var(--sklearn-color-fitted-level-1);\n",
       "}\n",
       "\n",
       "/* On hover */\n",
       "div.sk-estimator:hover .sk-estimator-doc-link:hover,\n",
       ".sk-estimator-doc-link:hover,\n",
       "div.sk-label-container:hover .sk-estimator-doc-link:hover,\n",
       ".sk-estimator-doc-link:hover {\n",
       "  /* unfitted */\n",
       "  background-color: var(--sklearn-color-unfitted-level-3);\n",
       "  color: var(--sklearn-color-background);\n",
       "  text-decoration: none;\n",
       "}\n",
       "\n",
       "div.sk-estimator.fitted:hover .sk-estimator-doc-link.fitted:hover,\n",
       ".sk-estimator-doc-link.fitted:hover,\n",
       "div.sk-label-container:hover .sk-estimator-doc-link.fitted:hover,\n",
       ".sk-estimator-doc-link.fitted:hover {\n",
       "  /* fitted */\n",
       "  background-color: var(--sklearn-color-fitted-level-3);\n",
       "  color: var(--sklearn-color-background);\n",
       "  text-decoration: none;\n",
       "}\n",
       "\n",
       "/* Span, style for the box shown on hovering the info icon */\n",
       ".sk-estimator-doc-link span {\n",
       "  display: none;\n",
       "  z-index: 9999;\n",
       "  position: relative;\n",
       "  font-weight: normal;\n",
       "  right: .2ex;\n",
       "  padding: .5ex;\n",
       "  margin: .5ex;\n",
       "  width: min-content;\n",
       "  min-width: 20ex;\n",
       "  max-width: 50ex;\n",
       "  color: var(--sklearn-color-text);\n",
       "  box-shadow: 2pt 2pt 4pt #999;\n",
       "  /* unfitted */\n",
       "  background: var(--sklearn-color-unfitted-level-0);\n",
       "  border: .5pt solid var(--sklearn-color-unfitted-level-3);\n",
       "}\n",
       "\n",
       ".sk-estimator-doc-link.fitted span {\n",
       "  /* fitted */\n",
       "  background: var(--sklearn-color-fitted-level-0);\n",
       "  border: var(--sklearn-color-fitted-level-3);\n",
       "}\n",
       "\n",
       ".sk-estimator-doc-link:hover span {\n",
       "  display: block;\n",
       "}\n",
       "\n",
       "/* \"?\"-specific style due to the `<a>` HTML tag */\n",
       "\n",
       "#sk-container-id-1 a.estimator_doc_link {\n",
       "  float: right;\n",
       "  font-size: 1rem;\n",
       "  line-height: 1em;\n",
       "  font-family: monospace;\n",
       "  background-color: var(--sklearn-color-background);\n",
       "  border-radius: 1rem;\n",
       "  height: 1rem;\n",
       "  width: 1rem;\n",
       "  text-decoration: none;\n",
       "  /* unfitted */\n",
       "  color: var(--sklearn-color-unfitted-level-1);\n",
       "  border: var(--sklearn-color-unfitted-level-1) 1pt solid;\n",
       "}\n",
       "\n",
       "#sk-container-id-1 a.estimator_doc_link.fitted {\n",
       "  /* fitted */\n",
       "  border: var(--sklearn-color-fitted-level-1) 1pt solid;\n",
       "  color: var(--sklearn-color-fitted-level-1);\n",
       "}\n",
       "\n",
       "/* On hover */\n",
       "#sk-container-id-1 a.estimator_doc_link:hover {\n",
       "  /* unfitted */\n",
       "  background-color: var(--sklearn-color-unfitted-level-3);\n",
       "  color: var(--sklearn-color-background);\n",
       "  text-decoration: none;\n",
       "}\n",
       "\n",
       "#sk-container-id-1 a.estimator_doc_link.fitted:hover {\n",
       "  /* fitted */\n",
       "  background-color: var(--sklearn-color-fitted-level-3);\n",
       "}\n",
       "</style><div id=\"sk-container-id-1\" class=\"sk-top-container\"><div class=\"sk-text-repr-fallback\"><pre>LogisticRegression()</pre><b>In a Jupyter environment, please rerun this cell to show the HTML representation or trust the notebook. <br />On GitHub, the HTML representation is unable to render, please try loading this page with nbviewer.org.</b></div><div class=\"sk-container\" hidden><div class=\"sk-item\"><div class=\"sk-estimator fitted sk-toggleable\"><input class=\"sk-toggleable__control sk-hidden--visually\" id=\"sk-estimator-id-1\" type=\"checkbox\" checked><label for=\"sk-estimator-id-1\" class=\"sk-toggleable__label fitted sk-toggleable__label-arrow fitted\">&nbsp;&nbsp;LogisticRegression<a class=\"sk-estimator-doc-link fitted\" rel=\"noreferrer\" target=\"_blank\" href=\"https://scikit-learn.org/1.5/modules/generated/sklearn.linear_model.LogisticRegression.html\">?<span>Documentation for LogisticRegression</span></a><span class=\"sk-estimator-doc-link fitted\">i<span>Fitted</span></span></label><div class=\"sk-toggleable__content fitted\"><pre>LogisticRegression()</pre></div> </div></div></div></div>"
      ],
      "text/plain": [
       "LogisticRegression()"
      ]
     },
     "execution_count": 63,
     "metadata": {},
     "output_type": "execute_result"
    }
   ],
   "source": [
    "from sklearn.linear_model import LogisticRegression\n",
    "\n",
    "clf = LogisticRegression()\n",
    "clf.fit(X_train, y_train)"
   ]
  },
  {
   "cell_type": "markdown",
   "metadata": {},
   "source": [
    "### 4. Predicción"
   ]
  },
  {
   "cell_type": "markdown",
   "metadata": {},
   "source": [
    "##### Lectura de un conjunto de correos nuevos"
   ]
  },
  {
   "cell_type": "code",
   "execution_count": 67,
   "metadata": {},
   "outputs": [
    {
     "name": "stdout",
     "output_type": "stream",
     "text": [
      "Parsing email: 150X: ['gener ciali brand qualitido feel pressur perform rise occas tri viagra anxieti thing past back old self', 'typo debianreadmhi ive updat gulu i check mirror it seem littl typo debianreadm file exampl httpgulususherbrookecadebianreadm ftpftpfrdebianorgdebianreadm test lenni access releas diststest the current test develop snapshot name etch packag test unstabl pass autom test propog releas etch replac lenni like readmehtml yan morin consult en logiciel libr yanmorinsavoirfairelinuxcom 5149941556 to unsubscrib email debianmirrorsrequestlistsdebianorg subject unsubscrib troubl contact listmasterlistsdebianorg', 'authent viagramega authenticv i a g r a discount pricec i a l i s discount pricedo miss it click httpwwwmoujsjkhchumcom authent viagra mega authenticv i a g r a discount pricec i a l i s discount pricedo miss it click', 'nice talk yahey billi realli fun go night talk said felt insecur manhood i notic toilet quit small area worri websit i tell secret weapon extra 3 inch trust girl love bigger one ive 5 time mani chick sinc i use pill year ago the packag i use 6 month suppli one worth everi cent websit httpctmaycom ring weekend go drink let know secret later dude brad', 'trembl stomach cramp troubl sleep weak loossystem home it capabl link far i know i within part with respect affect technolog societi scienc ad agenc cashin g commerci photograph paint electron canvas still seem like silenc white black light it didnt happen although far p erfect especi preclud vast explan i understand peopl reli avantgard art world addit writer lawyer yet ach full potenti i imagin futur comput screen ho w would percept artifici imag busi apart there computer sign shop filter unnecessari labor technolog comp ani monopoli servic as servic root tre nd western cultur sinc dark age possibl unimag in human think friendli not industri isnt welcom new peopl thought c enter comput voic activ capabl mo pervas year go we email system organizatio n individu booth design architect draftspeopl condit i call hyperawar anyth everyth five i alway took prid e know reason i hire abl conduct daili work activ without leav hydro bill spend time vr potato take grant conveni technolog newer model comput i decid investig littl condit i call hyperawar ani thing everyth five sport leisur activ factor motiv king communicationinfo network just like att technolog takeov r convers new occup may result comput either im bei ng demand i dont process i with guid book chart could therefor charg much lower price thi n ever realiz virtual realiti alreadi sharp technolog pass well oh well place make yet anoth barrier peopl much like formal structur speel would make accept draw th e work comput creation system home it h ave capabl link far i know i withi n part with respect affect technolog soci ty scienc ad agenc cash commerci font photograph paint electr onic canvas still seem like silenc white black light it didnt happen although far perfect especi p reclud vast explan i cant understand peopl rel avantgard art world addit writer lawyer yet reach full potenti i imagin futur comput screen would percept artif icial imag busi apart there computer sign shop filter unnecess ari labor technolog compani monopoli servic as servic root trend western cultur sinc dark age possibl unimagin human think friendli not industr isnt welcom new peopl thought enter comput hrough voic activ capabl pervas year go we email system organ individu booth design ar chitect draftspeopl condit i call hyperawar anythi ng everyth five i alway took pride know reason i hire abl conduct daili work activ without leav hydro bill spend time vr potato take grant conveni technolog newer model comput i decid investig littl e condit i call hyperawar anyth everyth five sport leisur activ w ill factor motiv king communicationinfo network just like att technolog takeov convers new occup may result comput either im demand i dont font process i w ith guid book chart could therefor charg much lower price thi never realiz virtual reali ty alreadi sharp technolog pass well oh well place make yet anoth b arrier peopl much like formal structur speel would make accept draw work comput c reation', 'which dutiprogram creativ abil artist monitor econom structur transform social space ca n absolut space you amount inform subject i see home dimens worldli conscious quantum mechan busi vr use al ong line societi benefit fewer use econom restructur transform social i fear right first i move came elimin need paper medium commun breakthrough w ill definit impact studi time i fa miliar comput home sit couch night i say intimid get it case i opt computerizat ion integr stage system in as interior design st udent i note comput program take job mani peopl work forc of cours govern pc as well control day day concern could therefor charg much lower price thi blood allow bodi societi function smoothli idea gener purpos simul went explain point peopl never leav termin manipul digit product visual artwork provid ancient artifact comput he kept perman global villag art g roundwork cultur technolog open whole new world commun th e answer it so your aliv paint draw in fact sculptor friend mine finish i oh ever an outlin mayb simpli cutter cut letter self adhes vinyl artifici natur see stage develop choos live smooth transit posit vibe care virtual realiti treat suc h uniqu modern concept it as interior design student i note comput program amount peopl becom part new commun purchas convent ional mean receiv comput design logo layou ts sign done fashion statement advertis ploy moral issu ever rea choos keep advanc technic the age group th e advanc technolog affect th program creativ abil artist monitor econom restructur transform social space absolut space you amount inform subject i see home dimens worldli conscious qu antum mechan busi vr use along line societi benefit fewer use econom restructur transform social i fear right first i move came elimin need paper medi um commun breakthrough definit impact stu die time i familiar comput home sit couch night i say intimid get it case i opt computer integr stage system in as interior design student i note comput progr am take job mani peopl work forc of cours govern pc as well contr oll day day concern could therefor charg much lower price thi blood allow bodi societi function smoot hli idea gener purpos simul went explain point peopl never leav termin manipul digit product visual artw ork provid ancient artifact comput he kept perman global villag art groundwork cultur technolog open whole n ew world commun answer it so aliv paint draw in fact sculptor friend mine finish i oh ever an outlin mayb simpli cutter cut letter sel f adhes vinyl artifici natur see stage devel opment choos live smooth transit posit vibe cari ng virtual realiti treat uniqu modern concept it div as interior design student i n ote comput program amount peopl becom part new commun purchas convent mean receiv w comput design logo layout sign done fashion statement advertis ploy moral issu ever reason choos keep advanc ing technic the age group advanc technolog affect th', 'for theorizglad see youlook assort new onlin drug store save upto 85today special offer viagra for as low as 162 per dose ciali super viagra for as low as 438 per dose levitra for as low as 444 per dose much much surpris todayit’l take 15 minut to be readi for action most need medic avail viagra ciali levitra propecia much much free ship worlwid no doctor visit no prescript 100 custom satisfactionclick visit new pharmaci storegood day glad see look assort new onli ne drug store save upto 85 today special offer viagra for as low as 162 per dose br ciali super viagra for as low as 438 per dose levitra for as low as 444 per dose much much surpris today it92ll take 15 minut to be readi for action most need medic avail viagra ciali levitra prope cia much much free ship worlwid no doctor visit no prescript 100 custom satisfact click visit new pharmaci tore good day', 'theoriz get insid local esc0rt09090909090909090909090909090909090909 090909090909090909090909090909090909090909090909 090909090909090909090909090909090909090909090909 090909090909090909090909090909090909090909090909 090909090909090909090909090909090909090909090909 090909090909090909090909090909090909090909090909 090909090909090909090909090909090909090909090909 090909090909090909090909090909090909090909090909 090909090909090909090909090909090909090909090909 090909090909090909090909090909090909090909090909 090909090909090909090909090909090909090909090909 090909090909090909090909090909090909090909090909 090909090909090909090909090909090909090909090909 090909090909090909090909090909090909090909090909 090909090909090909090909090909090909090909090909 090909090909090909090909090909090909090909090909 090909090909090909090909090909090909090909090909 090909090909090909090909090909090909090909090909 090909090909090909090909090909090909090909090909 090909090909090909090909090909090909090909090909 090909090909090909090909090909090909090909090909 090909090909090909090909090909090909090909090909 090909090909090909090909090909090909090909090909 090909090909090909090909090909090909090909090909 090909090909090909090909090909090909090909090909 090909090909090909090909090909090909090909090909 090909090909090909090909090909090909090909090909 090909090909090909090909090909090909090909090909 090909090909090909090909090909090909090909090909 090909090909090909090909090909090909090909090909 090909090909090909090909090909090909090909090909 090909090909090909090909090909090909090909090909 090909090909090909090909090909090909090909090909 090909090909090909090909090909090909090909090909 090909090909090909090909090909090909090909090909 090909090909090909090909090909090909090909090909 090909090909090909090909090909090909090909090909 090909090909090909090909090909090909090909090909 090909090909090909090909090909090909090909090909 090909090909090909090909090909090909090909090909 090909090909090909090909090909090909090909090909 090909090909090909090909090909090909090909090909 090909090909090909090909090909090909090909090909 090909090909090909090909090909090909090909090909 090909090909090909090909090909090909090909090909 090909090909090909090909090909090909090909090909 090909090909090909090909090909090909090909090909 090909090909090909090909090909090909090909090920 2020 i hope other easy2', 'lose weight quicklihoodialif start lose weight now hoodialif natur substanc liter take appetit away learn buy hoodialif \\xa0hoodialif start lose weight now hoodialif natur substanc liter take appetit away learn more\\xa0and buy hoodialif', 'r confidenceinterv helphi i use r find 90 confidenceinterv sensit specif follow diagnost test a particular diagnost test multipl sclerosi conduct 20 ms patient 20 healthi subject 6 ms patient classifi healthi 8 healthi subject classifi suffer ms furthermor i need find number ms patient requir sensit 1 is simpl rcommand i complet new r help pleas jochen view messag context httpwwwnabblecomconfidenceintervalshelptf3544217htmla9894014 sent r help mail list archiv nabblecom rhelpstatmathethzch mail list httpsstatethzchmailmanlistinforhelp pleas read post guid httpwwwrprojectorgpostingguidehtml provid comment minim selfcontain reproduc code', 'for smilegood dayvisit new onlin drug store save upto 85today special offer viagra for as low as 162 per dose ciali super viagra for as low as 438 per dose levitra for as low as 444 per dose much much special offer todayy need 15 minut to be readi for action most need medic avail viagra ciali levitra propecia much much free ship worlwid no doctor visit no prescript full custom satisfactionclick visit new drugstorebest regard good day visit new onlin drug store save upto 85 today special offer viagra for as low as 162 per dose br ciali super viagra for as low as 438 per dose levitra for as low as 444 per dose much much special offer today you need 15 minut to be readi for action most need medic avail viagra ciali levitra prope cia much much free ship worlwid no doctor visit no prescript full custom satisfact click visit new drugstor best regard', 'less weight pleasur joyanatrim 96 the latest delight product weighti people20 readili avail 96 as shown cnn can recal time ask thing to20 get rid fastli grow pound fat happili big20 offer expect with anatrim groundbreak weightreducing20 medley get healthier mode life becom realli thinner20 have look custom say it92 rather difficult admit i extrem addict to20 food i greedili ate garbig could stop thi fatal passion left i start cours take anatrim god inclin eat constantli vanish mood improv i92m happiest person planet 17 pound in20 28 month so i tell i92m happiest person lusia r chicago sinc earli childhood i weighti boy it92 difficult imagin i abhor mock school i abhor stout i abhor after tri mani differ remedi i found anatrim it liter took fear nightmar mani many20 thank guy rikki martin washington you know my marriag save thank anatrim i got the20 circl depress 96 eat 96 even depress my wife was20 think leav i turn overweight psycho one best friend point web page i order pack of20 anatrim time the final result magnfic appetit came normal level i20 often good mood cours i becam abl tighten my20 belt hole and see bed becam cool charley there mani mani sincer gratitud left happi peopl taking20 anatrim whi dont join ten thousand slender men and20 women tri natur appetit abat energi lift product do declin opportun check wonder pound melt anatrim 96 the latest delight product weighti people20 readili avail 96 as shown cnn can recal time ask thing to20 get rid fastli grow pound fat happili big20 offer expect with anatrim groundbreak weightreducing20 medley get healthier mode life becom realli thinner20 have look custom say it92 rather difficult admit i extrem addict to20 food i greedili ate garbig could stop thi fatal passion left i start cours take anatrim god inclin eat constantli vanish mood improv i92m happiest person planet 17 pound in20 28 month so i tell i92m happiest person lusia r chicago sinc earli childhood i weighti boy it92 difficult imagin i abhor mock school i abhor stout i abhor after tri mani differ remedi i found anatrim it liter took fear nightmar mani many20 thank guy rikki martin washington you know my marriag save thank anatrim i got the20 circl depress 96 eat 96 even depress my wife was20 think leav i turn overweight psycho one best friend point web page i order pack of20 anatrim time the final result magnfic appetit came normal level i20 often good mood cours i becam abl tighten my20 belt hole and see bed becam cool charley there mani mani sincer gratitud left happi peopl taking20 anatrim whi dont join ten thousand slender men and20 women tri natur appetit abat energi lift product do declin opportun', 'anatrim chang lifeanatrim – the latest enchant product weighti peopl avail – as told cnn can retain case ask thing deliv desper grow number kilo happili great price paid with anatrim groundbreak weightreduc combin element achiev healthier lifestyl becom realli slimmer take look peopl state it’ unbear difficult admit i exceedingli addict food i swallow garbig could stop thi torment stop i start cours anatrim holi god inclin eat constantli abat mood increas i turn happiest person planet 23 pound 22 month i tell i becam happiest person world linda f boston i problem overweight sinc boy you cant fanci i detest derid school i detest plump i detest after tri mani differ remedi i heard anatrim it liter pull dread nightmar mani mani thank guy steve doubt boston know anatrim preserv marriag i went circl depress – eat – even depress my wife leav i turn overweight psycho one friend show site i ask anatrim time the final result magnfic appetit becam normal i good mood often certainli i went belt hole back and bedroom becam cool also michael there mani mani testimoni left happi peopl tri anatrim don’t gonna join ten thousand slender buyer take natur appetitereduc power increas product do lose chanc achiev pictur perfect weight enjoy life anatrim – the latest enchant product weighti peopl avail – as told cnn can retain case ask thing deliv desper grow number kilo happili great price paid with anatrim groundbreak weightreduc combin element achiev healthier lifestyl becom realli slimmer take look peopl state it’ unbear difficult admit i exceedingli addict food i swallow garbig could stop thi torment stop i start cours anatrim holi god inclin eat constantli abat mood increas i turn happiest person planet 23 pound 22 month i tell i becam happiest person world linda f boston i problem overweight sinc boy you cant fanci i detest derid school i detest plump i detest after tri mani differ remedi i heard anatrim it liter pull dread nightmar mani mani thank guy steve doubt boston know anatrim preserv marriag i went circl depress – eat – even depress my wife leav i turn overweight psycho one friend show site i ask anatrim time the final result magnfic appetit becam normal i good mood often certainli i went belt hole back and bedroom becam cool also michael there mani mani testimoni left happi peopl tri anatrim don’t gonna join ten thousand slender buyer take natur appetitereduc power increas product do lose chanc', 'problem anim studi use rat rabbit feed outdoormovement tablet i could even select brush size the modernist titud mainstream societi pin away comput program i fig ure far troubl prepar career n ew area fortun technolog overexposur much like peopl get sick tire larg r shop total computer state downtown offic space drive rentleas price bore balanc harmo niou uninterest there abl explor local five sens it ray scientist believ electron creatur sinc power h ad gon e wed watch televis exampl tool choos abil combin i could use comput artmak process as turn printer graphic artist among mani specialti void ph ysical tangiblethi difficult concept give scientist observationa l advantag without lengthi come the person comput becom central nervou sentenc so random truth mean motiv factor behind design major contributor enjoy may futur post offic integr hope discov matter enabl a trend seem occur rapidli give rise order pizza simpl e command remot control effect exactli al life retriev memori variou method includ content amer youth cultur they listen music due growth internet virtual realiti comput cohes inform countri world in old shop older signmak comput thi comput consol g iggl stick ling cod twentythre purpl perch four state aro und canada mexico last addit inform e asi access search knowledg trade fool plain anoth charac ter must visual head the advantag technolog er artist architect outcom modern technolog sch ool the internet fellow american refrain form militari essenc conv nienc effici drive forc yet reach full poten tial i imagin futur movement tablet i could even select brush size the modernist attitud mainstream societi pinn ing away comput program i figur far troubl hey prepar career new area fortun technolog overexposur much like peopl wh get sick tire larger shop total computer state downtown offic space drive rentleas price bore balanc harmoni uninterest there abl explor local five sens it ray scientist believ electron ic creatur sinc power h ad gone wed watch televis exampl tool choos abil combin i could use comput artma king process as turn printer graphic artist among mani ot specialti void physic tangiblethi difficult con cept give scientist observ advantag without lengthi come the person comput becom e central nervou sentenc so random truth mean motiv factor behind design major contributor enjoy may futur post offic integr hope discov matter enabl a trend seem occur rapidli give r ise order pizza simpl command remot control effect ive exactli real life retriev memori variou ethod includ content american youth cultur they listen music due growth internet virtual realiti comput cohes inform countri world in old shop older signmak comput thi comput consol giggl stick ling cod twentythre pur ple perch four state around canada mexico last addit inform easi access search knowledg trade fool ing plain anoth charact must visual hea the advantag technolog offer artist architect utcom modern technolog school the internet fellow american refrain ny form militari essenc conveni effici drive forc yet reach full potenti i imagin futur font', 'we cure deseas']\n",
      "y: ['spam', 'ham', 'spam', 'spam', 'spam', 'spam', 'spam', 'spam', 'spam', 'ham', 'spam', 'spam', 'spam', 'spam', 'spam']\n"
     ]
    }
   ],
   "source": [
    "# Leemos 150 correos de nuestro conjunto de datos y nos quedamos únicamente con los 50 últimos \n",
    "# Estos 50 correos electrónicos no se han utilizado para entrenar el algoritmo\n",
    "X, y = create_prep_dataset(\"datasets/trec07p/full/index\", 150)\n",
    "X_test = X[100:]\n",
    "y_test = y[100:]"
   ]
  },
  {
   "cell_type": "markdown",
   "metadata": {},
   "source": [
    "##### Preprocesamiento de los correos con el vectorizador creado anteriormente"
   ]
  },
  {
   "cell_type": "code",
   "execution_count": 70,
   "metadata": {},
   "outputs": [],
   "source": [
    "X_test = vectorizer.transform(X_test)"
   ]
  },
  {
   "cell_type": "markdown",
   "metadata": {},
   "source": [
    "##### Predicción del tipo de correo"
   ]
  },
  {
   "cell_type": "code",
   "execution_count": 73,
   "metadata": {},
   "outputs": [
    {
     "data": {
      "text/plain": [
       "array(['spam', 'spam', 'spam', 'spam', 'spam', 'spam', 'spam', 'spam',\n",
       "       'spam', 'spam', 'spam', 'spam', 'spam', 'spam', 'spam', 'spam',\n",
       "       'spam', 'spam', 'spam', 'spam', 'spam', 'spam', 'spam', 'spam',\n",
       "       'spam', 'spam', 'spam', 'spam', 'spam', 'spam', 'spam', 'spam',\n",
       "       'spam', 'spam', 'spam', 'spam', 'spam', 'spam', 'spam', 'spam',\n",
       "       'spam', 'spam', 'spam', 'spam', 'spam', 'spam'], dtype='<U4')"
      ]
     },
     "execution_count": 73,
     "metadata": {},
     "output_type": "execute_result"
    }
   ],
   "source": [
    "y_pred = clf.predict(X_test)\n",
    "y_pred"
   ]
  },
  {
   "cell_type": "code",
   "execution_count": 75,
   "metadata": {},
   "outputs": [
    {
     "name": "stdout",
     "output_type": "stream",
     "text": [
      "Predicción:\n",
      " ['spam' 'spam' 'spam' 'spam' 'spam' 'spam' 'spam' 'spam' 'spam' 'spam'\n",
      " 'spam' 'spam' 'spam' 'spam' 'spam' 'spam' 'spam' 'spam' 'spam' 'spam'\n",
      " 'spam' 'spam' 'spam' 'spam' 'spam' 'spam' 'spam' 'spam' 'spam' 'spam'\n",
      " 'spam' 'spam' 'spam' 'spam' 'spam' 'spam' 'spam' 'spam' 'spam' 'spam'\n",
      " 'spam' 'spam' 'spam' 'spam' 'spam' 'spam']\n",
      "\n",
      "Etiquetas reales:\n",
      " ['spam', 'spam', 'spam', 'spam', 'spam', 'spam', 'spam', 'ham', 'spam', 'spam', 'spam', 'spam', 'spam', 'ham', 'spam', 'spam', 'spam', 'spam', 'spam', 'spam', 'ham', 'spam', 'spam', 'ham', 'spam', 'ham', 'spam', 'spam', 'spam', 'spam', 'spam', 'spam', 'spam', 'spam', 'spam', 'spam', 'spam', 'spam', 'spam', 'spam', 'spam', 'spam', 'spam', 'spam', 'spam', 'spam']\n"
     ]
    }
   ],
   "source": [
    "print(\"Predicción:\\n\", y_pred)\n",
    "print(\"\\nEtiquetas reales:\\n\", y_test)"
   ]
  },
  {
   "cell_type": "markdown",
   "metadata": {},
   "source": [
    "##### Evaluación de los resultados"
   ]
  },
  {
   "cell_type": "code",
   "execution_count": 78,
   "metadata": {},
   "outputs": [
    {
     "name": "stdout",
     "output_type": "stream",
     "text": [
      "Accuracy: 0.891\n"
     ]
    }
   ],
   "source": [
    "from sklearn.metrics import accuracy_score\n",
    "\n",
    "print('Accuracy: {:.3f}'.format(accuracy_score(y_test, y_pred)))"
   ]
  },
  {
   "cell_type": "code",
   "execution_count": null,
   "metadata": {},
   "outputs": [],
   "source": []
  },
  {
   "cell_type": "code",
   "execution_count": 94,
   "metadata": {},
   "outputs": [
    {
     "data": {
      "image/png": "[encoded data removed]",
      "text/plain": [
       "<Figure size 1000x600 with 1 Axes>"
      ]
     },
     "metadata": {},
     "output_type": "display_data"
    }
   ],
   "source": [
    "import numpy as np\n",
    "import matplotlib.pyplot as plt\n",
    "from sklearn.linear_model import LogisticRegression\n",
    "from sklearn.decomposition import PCA\n",
    "from sklearn.preprocessing import LabelEncoder\n",
    "\n",
    "# 1. Asegúrate de tener etiquetas codificadas numéricamente\n",
    "label_encoder = LabelEncoder()\n",
    "y_test_encoded = label_encoder.fit_transform(y_test)  # 'spam'/'ham' → 0/1\n",
    "\n",
    "# 2. Reducción de dimensionalidad con PCA\n",
    "pca = PCA(n_components=2)\n",
    "X_2d = pca.fit_transform(X_test.toarray())\n",
    "\n",
    "# 3. Entrenar clasificador sobre los datos de test (solo para visualizar frontera)\n",
    "clf = LogisticRegression()\n",
    "clf.fit(X_2d, y_test_encoded)\n",
    "\n",
    "# 4. Crear malla para la frontera de decisión\n",
    "x_min, x_max = X_2d[:, 0].min() - 1, X_2d[:, 0].max() + 1\n",
    "y_min, y_max = X_2d[:, 1].min() - 1, X_2d[:, 1].max() + 1\n",
    "xx, yy = np.meshgrid(np.linspace(x_min, x_max, 500),\n",
    "                     np.linspace(y_min, y_max, 500))\n",
    "grid_points = np.c_[xx.ravel(), yy.ravel()]\n",
    "\n",
    "# 5. Predecir sobre la malla\n",
    "Z = clf.predict(grid_points)\n",
    "Z = Z.reshape(xx.shape)\n",
    "\n",
    "# 6. Graficar\n",
    "plt.figure(figsize=(10, 6))\n",
    "plt.contourf(xx, yy, Z, alpha=0.2, cmap=plt.cm.coolwarm)\n",
    "\n",
    "# 7. Puntos reales (test)\n",
    "colors = ['blue', 'red']\n",
    "for i, label in enumerate(label_encoder.classes_):  # 'ham', 'spam'\n",
    "    idx = y_test_encoded == i\n",
    "    plt.scatter(X_2d[idx, 0], X_2d[idx, 1], c=colors[i], label=label, edgecolors='k', s=60)\n",
    "\n",
    "plt.title(\"Frontera de decisión en datos de prueba (Regresión Logística)\")\n",
    "plt.xlabel(\"Componente principal 1\")\n",
    "plt.ylabel(\"Componente principal 2\")\n",
    "plt.legend()\n",
    "plt.grid(True)\n",
    "plt.show()"
   ]
  },
  {
   "cell_type": "code",
   "execution_count": null,
   "metadata": {},
   "outputs": [],
   "source": []
  }
 ],
 "metadata": {
  "kernelspec": {
   "display_name": "Python [conda env:base] *",
   "language": "python",
   "name": "conda-base-py"
  },
  "language_info": {
   "codemirror_mode": {
    "name": "ipython",
    "version": 3
   },
   "file_extension": ".py",
   "mimetype": "text/x-python",
   "name": "python",
   "nbconvert_exporter": "python",
   "pygments_lexer": "ipython3",
   "version": "3.12.7"
  }
 },
 "nbformat": 4,
 "nbformat_minor": 4
}
