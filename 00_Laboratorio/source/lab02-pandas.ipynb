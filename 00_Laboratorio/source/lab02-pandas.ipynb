{
 "cells": [
  {
   "cell_type": "code",
   "execution_count": null,
   "metadata": {},
   "outputs": [],
   "source": [
    "import pandas as pd\n",
    "\n",
    "# CARGA DE DATOS\n",
    "df = pd.read_csv(\"./dataset.csv\") # Por defecto detecta las columnas por el encabezado del archivo\n",
    "# Puedo especificar algunos parametros adicionales como por ejemplo una columna como indice\n",
    "# pd.read_csv(\"./dataset.csv\", index_col = \"id\")\n",
    "\n",
    "\n",
    "# DESCUBRIENDO LOS DATOS\n",
    "df.tail(5)\n",
    "df.describe()\n",
    "df.columns\n",
    "df.head(5)"
   ]
  },
  {
   "cell_type": "code",
   "execution_count": null,
   "metadata": {},
   "outputs": [],
   "source": [
    "# LIMPIEZA DE DATOS\n",
    "\n",
    "df_filtrado = df.dropna()\n",
    "df_filtrado.head(5)\n",
    "\n",
    "df_llenado = df.fillna(0)\n",
    "df = df.fillna({\"retweets\": 0, \"mentions\": -1})\n",
    "df_llenado.head()\n",
    "df.head()"
   ]
  },
  {
   "cell_type": "code",
   "execution_count": null,
   "metadata": {},
   "outputs": [],
   "source": [
    "# SELECCION Y FILTRADO\n",
    "\n",
    "# Seleccionando columnas, a traves de su nombre\n",
    "df[\"favorites\"] # Me devuelve una sola columna como una Serie\n",
    "df[\"full_text\"] # Me devuelve una sola columna como una Serie\n",
    "df[[\"favorites\", \"full_text\"]] # Me devuelve un dataframe solamente con dos columnas\n",
    "\n",
    "# Seleccionando filas, a traves de los indices\n",
    "df.loc[0]\n",
    "df.loc[0:2]\n",
    "df.loc[[0, 1, 2]] \n",
    "\n",
    "# Seleccionando filas y columnas al mismo tiempo\n",
    "df.loc[[0, 1, 2], [\"favorites\"]]\n",
    "# Seleccionando todas las filas, y un grupo de columnas\n",
    "df.loc[:, [\"favorites\", \"full_text\"]]\n",
    "# Seleccionando un rango de filas y un grupo de columnas\n",
    "df.loc[1:3, [\"favorites\", \"full_text\", \"mentions\"]]\n",
    "\n",
    "# Seleccionando por condicion\n",
    "# Todas las filas que tengan un valor de favoritos mas altos de 100\n",
    "df[df[\"favorites\"] > 400]\n",
    "df[(df[\"favorites\"] > 400) & (df[\"mentions\"] > 20)]\n",
    "df[df[\"full_text\"].str.contains(\"Programming\")]"
   ]
  },
  {
   "cell_type": "code",
   "execution_count": null,
   "metadata": {},
   "outputs": [],
   "source": [
    "# TRANSFORMACION DE DATOS\n",
    "import random\n",
    "\n",
    "# Agregando una columna de ganancias, calculada en base a los retweets\n",
    "def calcularGanancias(retweets):\n",
    "    return retweets * random.randint(3, 5)\n",
    "df[\"ganancias\"] = df[\"retweets\"].apply(calcularGanancias)\n",
    "df.head(10)\n",
    "\n",
    "# Agregando una columna de popularidad, calculada en base a mi numero de seguidores y numero de pesonas que sigo\n",
    "def popularidad(fila):\n",
    "    return fila[\"followees\"]/fila[\"followers\"]\n",
    "\n",
    "df[\"popularidad\"] = df.apply(popularidad, axis=1)\n",
    "df.head(10)"
   ]
  },
  {
   "cell_type": "code",
   "execution_count": null,
   "metadata": {},
   "outputs": [],
   "source": [
    "df.groupby(\"country\").mean(numeric_only=True)\n"
   ]
  },
  {
   "cell_type": "code",
   "execution_count": null,
   "metadata": {},
   "outputs": [],
   "source": [
    "# AGRUPANDO Y AGREGANDO DATOS\n",
    "df.groupby(\"country\").mean(numeric_only=True) # Agrupando por pais y sacando la media de cada columna\n",
    "\n",
    "# Agrupando por pais y aplicando diferentes funciones de agregacion a cada columna\n",
    "df.groupby(\"country\").agg({\n",
    "    \"followers\": 'sum',\n",
    "    \"mentions\": 'mean',\n",
    "    \"retweets\": 'max'\n",
    "})\n",
    "\n",
    "grouped = df.groupby(\"country\").agg({\n",
    "    \"followers\": 'sum',\n",
    "    \"mentions\": 'mean',\n",
    "    \"retweets\": 'max'\n",
    "})\n",
    "grouped[grouped[\"followers\"] > 5000]"
   ]
  },
  {
   "cell_type": "code",
   "execution_count": null,
   "metadata": {},
   "outputs": [],
   "source": [
    "# GRAFICANDO DATOS\n",
    "import matplotlib.pyplot as plt\n",
    "grouped[\"followers\"].plot() # Lineas\n",
    "plt.show()"
   ]
  },
  {
   "cell_type": "code",
   "execution_count": null,
   "metadata": {},
   "outputs": [],
   "source": [
    "# Barras \n",
    "grouped[[\"followers\"]].plot(kind=\"bar\")\n",
    "plt.show()"
   ]
  },
  {
   "cell_type": "code",
   "execution_count": null,
   "metadata": {},
   "outputs": [],
   "source": [
    "# Scatter plot (x vs y)\n",
    "df.plot(kind=\"scatter\", x =\"favorites\", y =\"retweets\")\n",
    "plt.show()"
   ]
  },
  {
   "cell_type": "code",
   "execution_count": null,
   "metadata": {},
   "outputs": [],
   "source": [
    "# ALMACENAMIENTO\n",
    "grouped.to_csv(\"./salida.csv\")"
   ]
  },
  {
   "cell_type": "code",
   "execution_count": null,
   "metadata": {},
   "outputs": [],
   "source": [
    "# CREACION DESDE CERO\n",
    "datos = [\n",
    "    {\n",
    "        \"columna1\": 1,\n",
    "        \"columna2\": 93\n",
    "    },\n",
    "    {\n",
    "        \"columna1\": 3,\n",
    "        \"columna2\": 94\n",
    "    }\n",
    "]\n",
    "\n",
    "df2 = pd.DataFrame(datos)\n",
    "df2"
   ]
  },
  {
   "cell_type": "code",
   "execution_count": null,
   "metadata": {},
   "outputs": [],
   "source": []
  }
 ],
 "metadata": {
  "kernelspec": {
   "display_name": "Python 3 (ipykernel)",
   "language": "python",
   "name": "python3"
  },
  "language_info": {
   "codemirror_mode": {
    "name": "ipython",
    "version": 3
   },
   "file_extension": ".py",
   "mimetype": "text/x-python",
   "name": "python",
   "nbconvert_exporter": "python",
   "pygments_lexer": "ipython3",
   "version": "3.12.9"
  }
 },
 "nbformat": 4,
 "nbformat_minor": 4
}
